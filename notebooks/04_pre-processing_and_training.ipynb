{
 "cells": [
  {
   "cell_type": "markdown",
   "id": "2fefd335",
   "metadata": {},
   "source": [
    "# 4. Pre-Processing and Training Data"
   ]
  },
  {
   "cell_type": "code",
   "execution_count": 1,
   "id": "cd59a302",
   "metadata": {},
   "outputs": [],
   "source": [
    "#Import required modules\n",
    "import os\n",
    "import glob\n",
    "\n",
    "import pandas as pd\n",
    "import numpy as np\n",
    "\n",
    "import matplotlib.pyplot as plt\n",
    "import seaborn as sns\n",
    "\n",
    "import datetime\n",
    "import matplotlib.dates as mdates\n",
    "\n",
    "from pathlib import Path\n",
    "\n",
    "from sklearn import preprocessing\n",
    "from sklearn.model_selection import train_test_split"
   ]
  },
  {
   "cell_type": "markdown",
   "id": "348f0828",
   "metadata": {},
   "source": [
    "## Read Data"
   ]
  },
  {
   "cell_type": "code",
   "execution_count": 2,
   "id": "aa164a68",
   "metadata": {},
   "outputs": [
    {
     "name": "stdout",
     "output_type": "stream",
     "text": [
      "D:\\gitProjects\\springboard_capstone_1\\Springboard_Capstone_01\n"
     ]
    }
   ],
   "source": [
    "# Change directory one step back and save as the root directory\n",
    "ROOT_DIR = os.path.normpath(os.getcwd() + os.sep + os.pardir)\n",
    "print(ROOT_DIR)"
   ]
  },
  {
   "cell_type": "code",
   "execution_count": 3,
   "id": "7fad2b98",
   "metadata": {},
   "outputs": [
    {
     "name": "stdout",
     "output_type": "stream",
     "text": [
      "D:\\gitProjects\\springboard_capstone_1\\Springboard_Capstone_01\\data\\interim\\crude_oil_price_step3_features.csv\n"
     ]
    }
   ],
   "source": [
    "#Define file name and location\n",
    "dataset_csv = 'crude_oil_price_step3_features.csv'\n",
    "path = '\\\\data\\\\interim\\\\'\n",
    "f = ROOT_DIR + path + dataset_csv\n",
    "print(f)"
   ]
  },
  {
   "cell_type": "code",
   "execution_count": 4,
   "id": "86a3f0e7",
   "metadata": {},
   "outputs": [
    {
     "name": "stdout",
     "output_type": "stream",
     "text": [
      "Shape: (269, 30)\n"
     ]
    },
    {
     "data": {
      "text/html": [
       "<div>\n",
       "<style scoped>\n",
       "    .dataframe tbody tr th:only-of-type {\n",
       "        vertical-align: middle;\n",
       "    }\n",
       "\n",
       "    .dataframe tbody tr th {\n",
       "        vertical-align: top;\n",
       "    }\n",
       "\n",
       "    .dataframe thead th {\n",
       "        text-align: right;\n",
       "    }\n",
       "</style>\n",
       "<table border=\"1\" class=\"dataframe\">\n",
       "  <thead>\n",
       "    <tr style=\"text-align: right;\">\n",
       "      <th>Date</th>\n",
       "      <th>2000-02-01</th>\n",
       "      <th>2000-03-01</th>\n",
       "      <th>2000-04-01</th>\n",
       "      <th>2000-05-01</th>\n",
       "      <th>2000-06-01</th>\n",
       "    </tr>\n",
       "  </thead>\n",
       "  <tbody>\n",
       "    <tr>\n",
       "      <th>WTI_Price</th>\n",
       "      <td>29.366000</td>\n",
       "      <td>29.842000</td>\n",
       "      <td>25.722000</td>\n",
       "      <td>28.788000</td>\n",
       "      <td>31.822000</td>\n",
       "    </tr>\n",
       "    <tr>\n",
       "      <th>Oil_Production_OPEC</th>\n",
       "      <td>26.675516</td>\n",
       "      <td>26.608782</td>\n",
       "      <td>27.516678</td>\n",
       "      <td>28.048591</td>\n",
       "      <td>27.639380</td>\n",
       "    </tr>\n",
       "    <tr>\n",
       "      <th>Oil_Production_nonOPEC</th>\n",
       "      <td>46.822508</td>\n",
       "      <td>46.937266</td>\n",
       "      <td>46.618731</td>\n",
       "      <td>46.623961</td>\n",
       "      <td>46.778141</td>\n",
       "    </tr>\n",
       "    <tr>\n",
       "      <th>Oil_Production_World</th>\n",
       "      <td>74470.542507</td>\n",
       "      <td>74439.049968</td>\n",
       "      <td>75116.129376</td>\n",
       "      <td>75639.562523</td>\n",
       "      <td>75360.217843</td>\n",
       "    </tr>\n",
       "    <tr>\n",
       "      <th>Henry_Hub_NG_Price</th>\n",
       "      <td>2.660000</td>\n",
       "      <td>2.790000</td>\n",
       "      <td>3.040000</td>\n",
       "      <td>3.590000</td>\n",
       "      <td>4.290000</td>\n",
       "    </tr>\n",
       "    <tr>\n",
       "      <th>Oil_Production_US</th>\n",
       "      <td>5.851839</td>\n",
       "      <td>5.918207</td>\n",
       "      <td>5.854166</td>\n",
       "      <td>5.846510</td>\n",
       "      <td>5.822882</td>\n",
       "    </tr>\n",
       "    <tr>\n",
       "      <th>Petrol_Consumption_OECD</th>\n",
       "      <td>50.229341</td>\n",
       "      <td>49.358083</td>\n",
       "      <td>46.286749</td>\n",
       "      <td>47.338795</td>\n",
       "      <td>47.955820</td>\n",
       "    </tr>\n",
       "    <tr>\n",
       "      <th>Petrol_Consumption_nonOECD</th>\n",
       "      <td>28.770679</td>\n",
       "      <td>28.528547</td>\n",
       "      <td>28.131882</td>\n",
       "      <td>28.216862</td>\n",
       "      <td>28.270995</td>\n",
       "    </tr>\n",
       "    <tr>\n",
       "      <th>US_CPI</th>\n",
       "      <td>1.700000</td>\n",
       "      <td>1.710000</td>\n",
       "      <td>1.709000</td>\n",
       "      <td>1.712000</td>\n",
       "      <td>1.722000</td>\n",
       "    </tr>\n",
       "    <tr>\n",
       "      <th>US_PPI</th>\n",
       "      <td>1.299187</td>\n",
       "      <td>1.305372</td>\n",
       "      <td>1.311693</td>\n",
       "      <td>1.317793</td>\n",
       "      <td>1.323801</td>\n",
       "    </tr>\n",
       "    <tr>\n",
       "      <th>US_PPI_Petroleum</th>\n",
       "      <td>0.840000</td>\n",
       "      <td>0.897000</td>\n",
       "      <td>0.846000</td>\n",
       "      <td>0.876000</td>\n",
       "      <td>0.974000</td>\n",
       "    </tr>\n",
       "    <tr>\n",
       "      <th>US_PMI</th>\n",
       "      <td>92.566900</td>\n",
       "      <td>93.194900</td>\n",
       "      <td>93.805100</td>\n",
       "      <td>93.881500</td>\n",
       "      <td>94.015900</td>\n",
       "    </tr>\n",
       "    <tr>\n",
       "      <th>Crude_Oil_Inventory_Total</th>\n",
       "      <td>896.840000</td>\n",
       "      <td>906.889002</td>\n",
       "      <td>936.018999</td>\n",
       "      <td>948.328000</td>\n",
       "      <td>957.061001</td>\n",
       "    </tr>\n",
       "    <tr>\n",
       "      <th>Crude_Oil_Inventory_SPR</th>\n",
       "      <td>569.370000</td>\n",
       "      <td>569.413000</td>\n",
       "      <td>569.413000</td>\n",
       "      <td>569.413000</td>\n",
       "      <td>568.893000</td>\n",
       "    </tr>\n",
       "    <tr>\n",
       "      <th>Crude_Oil_Inventory_nonSPR</th>\n",
       "      <td>285.847000</td>\n",
       "      <td>297.087000</td>\n",
       "      <td>303.833000</td>\n",
       "      <td>294.712000</td>\n",
       "      <td>290.623000</td>\n",
       "    </tr>\n",
       "    <tr>\n",
       "      <th>Fed_Fund_Effective</th>\n",
       "      <td>5.730000</td>\n",
       "      <td>5.850000</td>\n",
       "      <td>6.020000</td>\n",
       "      <td>6.270000</td>\n",
       "      <td>6.530000</td>\n",
       "    </tr>\n",
       "    <tr>\n",
       "      <th>Index_Global_Real_Econ_Activity</th>\n",
       "      <td>-9.591177</td>\n",
       "      <td>5.080761</td>\n",
       "      <td>8.161007</td>\n",
       "      <td>4.170149</td>\n",
       "      <td>2.934744</td>\n",
       "    </tr>\n",
       "    <tr>\n",
       "      <th>US_CPI_Energy</th>\n",
       "      <td>57.517435</td>\n",
       "      <td>60.228197</td>\n",
       "      <td>59.488898</td>\n",
       "      <td>59.636758</td>\n",
       "      <td>63.875404</td>\n",
       "    </tr>\n",
       "    <tr>\n",
       "      <th>EU19_PPI</th>\n",
       "      <td>1.113173</td>\n",
       "      <td>1.100917</td>\n",
       "      <td>4.174229</td>\n",
       "      <td>1.916376</td>\n",
       "      <td>0.683761</td>\n",
       "    </tr>\n",
       "    <tr>\n",
       "      <th>USD_EUR_Exchange</th>\n",
       "      <td>0.983400</td>\n",
       "      <td>0.964300</td>\n",
       "      <td>0.944900</td>\n",
       "      <td>0.905900</td>\n",
       "      <td>0.950500</td>\n",
       "    </tr>\n",
       "    <tr>\n",
       "      <th>Global_Econ_Policy_Uncertainty_Index</th>\n",
       "      <td>58.702252</td>\n",
       "      <td>61.315905</td>\n",
       "      <td>64.554036</td>\n",
       "      <td>87.116240</td>\n",
       "      <td>88.401506</td>\n",
       "    </tr>\n",
       "    <tr>\n",
       "      <th>COMP</th>\n",
       "      <td>4410.871000</td>\n",
       "      <td>4802.988261</td>\n",
       "      <td>3863.637368</td>\n",
       "      <td>3528.416818</td>\n",
       "      <td>3866.422273</td>\n",
       "    </tr>\n",
       "    <tr>\n",
       "      <th>Copper_Futures</th>\n",
       "      <td>0.798000</td>\n",
       "      <td>0.808500</td>\n",
       "      <td>0.796000</td>\n",
       "      <td>0.816000</td>\n",
       "      <td>0.824000</td>\n",
       "    </tr>\n",
       "    <tr>\n",
       "      <th>DJIA</th>\n",
       "      <td>10541.929500</td>\n",
       "      <td>10483.390435</td>\n",
       "      <td>10944.310526</td>\n",
       "      <td>10580.267727</td>\n",
       "      <td>10582.925909</td>\n",
       "    </tr>\n",
       "    <tr>\n",
       "      <th>DXY</th>\n",
       "      <td>105.920000</td>\n",
       "      <td>105.440000</td>\n",
       "      <td>110.140000</td>\n",
       "      <td>108.740000</td>\n",
       "      <td>106.840000</td>\n",
       "    </tr>\n",
       "    <tr>\n",
       "      <th>Gold_Futures</th>\n",
       "      <td>295.400000</td>\n",
       "      <td>281.400000</td>\n",
       "      <td>276.000000</td>\n",
       "      <td>274.800000</td>\n",
       "      <td>293.000000</td>\n",
       "    </tr>\n",
       "    <tr>\n",
       "      <th>SPX</th>\n",
       "      <td>1388.874000</td>\n",
       "      <td>1442.213043</td>\n",
       "      <td>1461.355263</td>\n",
       "      <td>1418.479545</td>\n",
       "      <td>1461.959091</td>\n",
       "    </tr>\n",
       "    <tr>\n",
       "      <th>WTI_Brent_Price_Spread</th>\n",
       "      <td>1.591000</td>\n",
       "      <td>2.356000</td>\n",
       "      <td>2.958000</td>\n",
       "      <td>1.051000</td>\n",
       "      <td>2.027000</td>\n",
       "    </tr>\n",
       "    <tr>\n",
       "      <th>WTI_Crack_Spread</th>\n",
       "      <td>173.902000</td>\n",
       "      <td>193.374000</td>\n",
       "      <td>179.734000</td>\n",
       "      <td>190.836000</td>\n",
       "      <td>205.534000</td>\n",
       "    </tr>\n",
       "    <tr>\n",
       "      <th>Brent_Crack_Spread</th>\n",
       "      <td>178.675000</td>\n",
       "      <td>200.442000</td>\n",
       "      <td>188.608000</td>\n",
       "      <td>193.989000</td>\n",
       "      <td>211.615000</td>\n",
       "    </tr>\n",
       "  </tbody>\n",
       "</table>\n",
       "</div>"
      ],
      "text/plain": [
       "Date                                    2000-02-01    2000-03-01  \\\n",
       "WTI_Price                                29.366000     29.842000   \n",
       "Oil_Production_OPEC                      26.675516     26.608782   \n",
       "Oil_Production_nonOPEC                   46.822508     46.937266   \n",
       "Oil_Production_World                  74470.542507  74439.049968   \n",
       "Henry_Hub_NG_Price                        2.660000      2.790000   \n",
       "Oil_Production_US                         5.851839      5.918207   \n",
       "Petrol_Consumption_OECD                  50.229341     49.358083   \n",
       "Petrol_Consumption_nonOECD               28.770679     28.528547   \n",
       "US_CPI                                    1.700000      1.710000   \n",
       "US_PPI                                    1.299187      1.305372   \n",
       "US_PPI_Petroleum                          0.840000      0.897000   \n",
       "US_PMI                                   92.566900     93.194900   \n",
       "Crude_Oil_Inventory_Total               896.840000    906.889002   \n",
       "Crude_Oil_Inventory_SPR                 569.370000    569.413000   \n",
       "Crude_Oil_Inventory_nonSPR              285.847000    297.087000   \n",
       "Fed_Fund_Effective                        5.730000      5.850000   \n",
       "Index_Global_Real_Econ_Activity          -9.591177      5.080761   \n",
       "US_CPI_Energy                            57.517435     60.228197   \n",
       "EU19_PPI                                  1.113173      1.100917   \n",
       "USD_EUR_Exchange                          0.983400      0.964300   \n",
       "Global_Econ_Policy_Uncertainty_Index     58.702252     61.315905   \n",
       "COMP                                   4410.871000   4802.988261   \n",
       "Copper_Futures                            0.798000      0.808500   \n",
       "DJIA                                  10541.929500  10483.390435   \n",
       "DXY                                     105.920000    105.440000   \n",
       "Gold_Futures                            295.400000    281.400000   \n",
       "SPX                                    1388.874000   1442.213043   \n",
       "WTI_Brent_Price_Spread                    1.591000      2.356000   \n",
       "WTI_Crack_Spread                        173.902000    193.374000   \n",
       "Brent_Crack_Spread                      178.675000    200.442000   \n",
       "\n",
       "Date                                    2000-04-01    2000-05-01    2000-06-01  \n",
       "WTI_Price                                25.722000     28.788000     31.822000  \n",
       "Oil_Production_OPEC                      27.516678     28.048591     27.639380  \n",
       "Oil_Production_nonOPEC                   46.618731     46.623961     46.778141  \n",
       "Oil_Production_World                  75116.129376  75639.562523  75360.217843  \n",
       "Henry_Hub_NG_Price                        3.040000      3.590000      4.290000  \n",
       "Oil_Production_US                         5.854166      5.846510      5.822882  \n",
       "Petrol_Consumption_OECD                  46.286749     47.338795     47.955820  \n",
       "Petrol_Consumption_nonOECD               28.131882     28.216862     28.270995  \n",
       "US_CPI                                    1.709000      1.712000      1.722000  \n",
       "US_PPI                                    1.311693      1.317793      1.323801  \n",
       "US_PPI_Petroleum                          0.846000      0.876000      0.974000  \n",
       "US_PMI                                   93.805100     93.881500     94.015900  \n",
       "Crude_Oil_Inventory_Total               936.018999    948.328000    957.061001  \n",
       "Crude_Oil_Inventory_SPR                 569.413000    569.413000    568.893000  \n",
       "Crude_Oil_Inventory_nonSPR              303.833000    294.712000    290.623000  \n",
       "Fed_Fund_Effective                        6.020000      6.270000      6.530000  \n",
       "Index_Global_Real_Econ_Activity           8.161007      4.170149      2.934744  \n",
       "US_CPI_Energy                            59.488898     59.636758     63.875404  \n",
       "EU19_PPI                                  4.174229      1.916376      0.683761  \n",
       "USD_EUR_Exchange                          0.944900      0.905900      0.950500  \n",
       "Global_Econ_Policy_Uncertainty_Index     64.554036     87.116240     88.401506  \n",
       "COMP                                   3863.637368   3528.416818   3866.422273  \n",
       "Copper_Futures                            0.796000      0.816000      0.824000  \n",
       "DJIA                                  10944.310526  10580.267727  10582.925909  \n",
       "DXY                                     110.140000    108.740000    106.840000  \n",
       "Gold_Futures                            276.000000    274.800000    293.000000  \n",
       "SPX                                    1461.355263   1418.479545   1461.959091  \n",
       "WTI_Brent_Price_Spread                    2.958000      1.051000      2.027000  \n",
       "WTI_Crack_Spread                        179.734000    190.836000    205.534000  \n",
       "Brent_Crack_Spread                      188.608000    193.989000    211.615000  "
      ]
     },
     "metadata": {},
     "output_type": "display_data"
    }
   ],
   "source": [
    "#cast csv to dataframe\n",
    "df = pd.read_csv(f)\n",
    "\n",
    "#convert 'Date' column to date format\n",
    "df['Date'] = pd.to_datetime(df['Date'], format='%Y-%m-%d', errors=\"raise\")\n",
    "\n",
    "#set Date as index\n",
    "df.set_index('Date', drop=True, inplace=True)\n",
    "\n",
    "#print shape of dataframe\n",
    "print('Shape:',df.shape)\n",
    "\n",
    "#display df head\n",
    "display(df.head().T)"
   ]
  },
  {
   "cell_type": "markdown",
   "id": "45ea3891",
   "metadata": {},
   "source": [
    "## Train/Test Split"
   ]
  },
  {
   "cell_type": "code",
   "execution_count": null,
   "id": "6e42acf7",
   "metadata": {},
   "outputs": [],
   "source": [
    "#expected 70-30 split sizes\n",
    "print(round(len(df) * 0.7, 0))\n",
    "print(round(len(df) * 0.3, 0))"
   ]
  },
  {
   "cell_type": "code",
   "execution_count": null,
   "id": "61a89b83",
   "metadata": {},
   "outputs": [],
   "source": [
    "#split data to 70$ train and 30% test sets\n",
    "#... = train_test_split(X, y, test_size, random_state)\n",
    "X_train, X_test, y_train, y_test = train_test_split(df.drop(columns='WTI_Price'),\n",
    "                                                    df.WTI_Price, test_size=0.3,\n",
    "                                                    random_state=47)"
   ]
  },
  {
   "cell_type": "code",
   "execution_count": null,
   "id": "91c0ad34",
   "metadata": {},
   "outputs": [],
   "source": [
    "print('(X_train, X_test):\\n',X_train.shape, X_test.shape)\n",
    "print('\\n(y_train, y_test):\\n',y_train.shape, y_test.shape)"
   ]
  },
  {
   "cell_type": "markdown",
   "id": "958c7697",
   "metadata": {},
   "source": [
    "## Initial Models"
   ]
  },
  {
   "cell_type": "markdown",
   "id": "1aaa1042",
   "metadata": {},
   "source": [
    "### Imputing missing feature (predictor) values\n",
    "Impute missing values using scikit-learn. Learn values to impute from a train split and apply that to the test split."
   ]
  },
  {
   "cell_type": "markdown",
   "id": "ba717dd3",
   "metadata": {},
   "source": [
    "### Impute missing values with median\n",
    "There's missing values. Recall from your data exploration that many distributions were skewed. Your first thought might be to impute missing values using the median."
   ]
  },
  {
   "cell_type": "code",
   "execution_count": null,
   "id": "515c099b",
   "metadata": {},
   "outputs": [],
   "source": [
    "X_defaults_median = X_train.median()\n",
    "X_defaults_median"
   ]
  },
  {
   "cell_type": "code",
   "execution_count": null,
   "id": "483568b5",
   "metadata": {},
   "outputs": [],
   "source": [
    "#Call `X_train` and `X_test`'s `fillna()` method, passing `X_defaults_median` as the values to use\n",
    "#Assign the results to `X_tr` and `X_te`, respectively\n",
    "X_tr = X_train.fillna(X_defaults_median)\n",
    "X_te = X_test.fillna(X_defaults_median)"
   ]
  },
  {
   "cell_type": "markdown",
   "id": "fb936e1e",
   "metadata": {},
   "source": [
    "### Scale Data"
   ]
  },
  {
   "cell_type": "code",
   "execution_count": null,
   "id": "1e6ef450",
   "metadata": {},
   "outputs": [],
   "source": [
    "def scale_train_test_dataframes(X_tr, X_te):\n",
    "    '''This function gets a dataframe and normalized columns and return a new data frame'''\n",
    "    \n",
    "    #store column names\n",
    "    names = X_tr.columns\n",
    "    \n",
    "    from sklearn.preprocessing import StandardScaler\n",
    "\n",
    "    #Call the StandardScaler`s fit method on `X_tr` to fit the scaler\n",
    "    #then use it's `transform()` method to apply the scaling to both the train and test split\n",
    "    #data (`X_tr` and `X_te`), naming the results `X_tr_scaled` and `X_te_scaled`, respectively\n",
    "\n",
    "    scaler = StandardScaler()\n",
    "    \n",
    "    #scale data using sklearn preprocessing module\n",
    "    scaler.fit(X_tr)\n",
    "    \n",
    "    X_tr_scaled = scaler.transform(X_tr)\n",
    "    \n",
    "    X_te_scaled = scaler.transform(X_te)\n",
    "\n",
    "    #create new df using scaled data\n",
    "    X_tr_scaled_df = pd.DataFrame(X_tr_scaled, columns=names)\n",
    "    X_te_scaled_df = pd.DataFrame(X_te_scaled, columns=names)\n",
    "\n",
    "    #set index\n",
    "    X_tr_scaled_df.set_index(X_tr.index, drop=True, inplace=True)\n",
    "    X_te_scaled_df.set_index(X_te.index, drop=True, inplace=True)\n",
    "\n",
    "    #return scaled dataframe\n",
    "    return X_tr_scaled_df, X_te_scaled_df"
   ]
  },
  {
   "cell_type": "code",
   "execution_count": null,
   "id": "1b9bd730",
   "metadata": {},
   "outputs": [],
   "source": [
    "X_tr_scaled, X_te_scaled = scale_train_test_dataframes(X_tr, X_te)"
   ]
  },
  {
   "cell_type": "markdown",
   "id": "671e509f",
   "metadata": {},
   "source": [
    "#### Plot scaled data"
   ]
  },
  {
   "cell_type": "code",
   "execution_count": null,
   "id": "32b8c678",
   "metadata": {},
   "outputs": [],
   "source": [
    "#Plot histogram of all  features\n",
    "#Call plt.subplots_adjust() with an argument hspace=0.5 to adjust the spacing\n",
    "#It's important you create legible and easy-to-read plots\n",
    "X_tr_scaled.hist(figsize=(15,15))\n",
    "plt.subplots_adjust(hspace=0.5);"
   ]
  },
  {
   "cell_type": "code",
   "execution_count": null,
   "id": "cdfee39b",
   "metadata": {},
   "outputs": [],
   "source": [
    "sns.boxplot(data = X_tr_scaled, orient = 'h')"
   ]
  },
  {
   "cell_type": "markdown",
   "id": "88c7f5c5",
   "metadata": {},
   "source": [
    "## Conduct Regression Model in PyCaret"
   ]
  },
  {
   "cell_type": "code",
   "execution_count": null,
   "id": "7fd47e6e",
   "metadata": {},
   "outputs": [],
   "source": [
    "from pycaret.regression import *\n",
    "\n",
    "# Transform dataset (transform, bin and create dummy variables) and split the dataset.\n",
    "#In addition, we are logging experiments and plots for those experiment to be viewed later with MLflow. \n",
    "\n",
    "reg_model = setup(data=df, \n",
    "                target='WTI_Price',\n",
    "                session_id=786,\n",
    "                transformation=True,\n",
    "                normalize=True,\n",
    "                train_size=0.7,\n",
    "                log_plots=True)"
   ]
  },
  {
   "cell_type": "code",
   "execution_count": null,
   "id": "74d80605",
   "metadata": {},
   "outputs": [],
   "source": [
    "# We can do a compare_models() function without assigning it to a variable.\n",
    "# However, we have top 5 models selected using n_select and assigning it to top5 variable.\n",
    "# We plan to use this for Stacking and Blending purposes. \n",
    "# We have have adjusted the default fold value from 10 to 5.\n",
    "\n",
    "top5 = compare_models(n_select=5, sort='RMSE', fold=5)"
   ]
  },
  {
   "cell_type": "code",
   "execution_count": null,
   "id": "bb704d49",
   "metadata": {},
   "outputs": [],
   "source": [
    "# We can tune our top 5 models dynamically with a higher iteration rate (n_iter)\n",
    "#to find more optimal hyper parameters over a larger search space. \n",
    "\n",
    "tuned_top5 = [tune_model(i, n_iter=120, optimize='RMSE', fold=5) for i in top5]"
   ]
  },
  {
   "cell_type": "markdown",
   "id": "5a3c9df8",
   "metadata": {},
   "source": [
    "## Evaluate best prediction model"
   ]
  },
  {
   "cell_type": "code",
   "execution_count": null,
   "id": "dad6db00",
   "metadata": {},
   "outputs": [],
   "source": [
    "from pycaret.regression import *"
   ]
  },
  {
   "cell_type": "code",
   "execution_count": null,
   "id": "c03e74e9",
   "metadata": {},
   "outputs": [],
   "source": [
    "#init setup pycaret.regression\n",
    "s = setup(X_tr_scaled, target = y_train, session_id = 1)"
   ]
  },
  {
   "cell_type": "code",
   "execution_count": null,
   "id": "0727fd9c",
   "metadata": {
    "scrolled": false
   },
   "outputs": [],
   "source": [
    "#model training and selection\n",
    "best = compare_models()"
   ]
  },
  {
   "cell_type": "code",
   "execution_count": null,
   "id": "346692f5",
   "metadata": {},
   "outputs": [],
   "source": [
    "print(best)"
   ]
  },
  {
   "cell_type": "code",
   "execution_count": null,
   "id": "4ac2b2a2",
   "metadata": {},
   "outputs": [],
   "source": [
    "#analyze best model\n",
    "evaluate_model(best)"
   ]
  },
  {
   "cell_type": "code",
   "execution_count": null,
   "id": "3b11298b",
   "metadata": {},
   "outputs": [],
   "source": [
    "#predict on new data\n",
    "predictions = predict_model(best, data = X_te_scaled)"
   ]
  },
  {
   "cell_type": "code",
   "execution_count": null,
   "id": "ce3eefe6",
   "metadata": {
    "scrolled": true
   },
   "outputs": [],
   "source": [
    "#predictions"
   ]
  },
  {
   "cell_type": "code",
   "execution_count": null,
   "id": "57a42df8",
   "metadata": {},
   "outputs": [],
   "source": [
    "# Blending models is an ensemble method of combining different machine learning algorithms and use a majority vote to build consensus of final prediction values. Let's try building a blending model from our top 5 models and evaluate the results. \n",
    "blender_specific = blend_models(estimator_list=tuned_top5[0:], fold=5, optimize='RMSE', choose_better=False)"
   ]
  },
  {
   "cell_type": "code",
   "execution_count": null,
   "id": "097acd6d",
   "metadata": {},
   "outputs": [],
   "source": [
    "# Below is a view of the model parameters. \n",
    "print(blender_specific)\n",
    "display(blender_specific)"
   ]
  },
  {
   "cell_type": "code",
   "execution_count": null,
   "id": "6bf28775",
   "metadata": {},
   "outputs": [],
   "source": [
    "# Stacking models is an ensemble method of using meta learning, \n",
    "#where a meta model is created using multiple base estimators to generate the final prediction.\n",
    "#Let's try building a stacking model from our top 5 models and evaluate the results.\n",
    "\n",
    "stacker_specific = stack_models(estimator_list=tuned_top5[1:],\n",
    "                                meta_model=tuned_top5[0],\n",
    "                                fold=5,\n",
    "                                optimize='RMSE',\n",
    "                                choose_better=False)"
   ]
  },
  {
   "cell_type": "code",
   "execution_count": null,
   "id": "8db12c92",
   "metadata": {},
   "outputs": [],
   "source": [
    "# Below is a view of the model parameters. \n",
    "print(stacker_specific)\n",
    "display(stacker_specific)"
   ]
  },
  {
   "cell_type": "code",
   "execution_count": null,
   "id": "e039f3d1",
   "metadata": {},
   "outputs": [],
   "source": [
    "evaluate_model(stacker_specific)"
   ]
  },
  {
   "cell_type": "code",
   "execution_count": null,
   "id": "a981a0bf",
   "metadata": {},
   "outputs": [],
   "source": [
    "evaluate_model(blender_specific)"
   ]
  },
  {
   "cell_type": "code",
   "execution_count": null,
   "id": "b2f05149",
   "metadata": {},
   "outputs": [],
   "source": [
    "interpret_model(blender_specific)"
   ]
  },
  {
   "cell_type": "code",
   "execution_count": null,
   "id": "744e6849",
   "metadata": {},
   "outputs": [],
   "source": [
    "pip install shap"
   ]
  },
  {
   "cell_type": "code",
   "execution_count": null,
   "id": "e07b57c9",
   "metadata": {},
   "outputs": [],
   "source": [
    "# We can use Pycaret's built in plot_model() function to generate side-by-side plots: \n",
    "#the Cook's Distance Outliers and t-SNE Manifold charts. \n",
    "fig = plt.figure(figsize=(20,30))\n",
    "ax = fig.add_subplot(5,2,1)\n",
    "plot_model(blender_specific, plot='cooks')\n",
    "ax = fig.add_subplot(5,2,2)\n",
    "plot_model(blender_specific, plot='manifold')\n",
    "plt.show()"
   ]
  },
  {
   "cell_type": "code",
   "execution_count": null,
   "id": "149982cb",
   "metadata": {
    "scrolled": false
   },
   "outputs": [],
   "source": [
    "# We can use Pycaret's built in plot_model() function to generate side-by-side plots:\n",
    "#the Residuals chart, Prediction Error and Cross Validation (learning) charts.\n",
    "#Let's compare the Blend and Stack model plots in a side-by-side comparison. \n",
    "\n",
    "fig = plt.figure(figsize=(25,20))\n",
    "ax = fig.add_subplot(3,2,1)\n",
    "plot_model(blender_specific, plot='residuals', save=False, verbose=False, scale=0.5)\n",
    "ax = fig.add_subplot(3,2,2)\n",
    "plot_model(stacker_specific, plot='residuals', save=False, verbose=False, scale=0.5)\n",
    "ax = fig.add_subplot(3,2,3)\n",
    "plot_model(blender_specific, plot='error', save=False, verbose=False, scale=0.5)\n",
    "ax = fig.add_subplot(3,2,4)\n",
    "plot_model(stacker_specific, plot='error', save=False, verbose=False, scale=0.5)\n",
    "ax = fig.add_subplot(3,2,5)\n",
    "plot_model(blender_specific, plot='learning', verbose=False, scale=0.5)\n",
    "ax = fig.add_subplot(3,2,6)\n",
    "plot_model(stacker_specific, plot='learning', save=False, verbose=False, scale=0.5)\n",
    "#plt.savefig('plots_blender_vs_stacker.png', dpi=300, pad_inches=0.25)\n",
    "plt.show()"
   ]
  },
  {
   "cell_type": "code",
   "execution_count": null,
   "id": "4f29cd57",
   "metadata": {},
   "outputs": [],
   "source": [
    "# We can execute the predict_model() function to use the model to generate the predicted values. \n",
    "pred_tunded_blender = predict_model(blender_specific)"
   ]
  },
  {
   "cell_type": "code",
   "execution_count": null,
   "id": "452ffd32",
   "metadata": {},
   "outputs": [],
   "source": [
    "# We can execute the predict_model() function to use the model to generate the predicted values. \n",
    "pred_tunded_stacker = predict_model(stacker_specific)"
   ]
  },
  {
   "cell_type": "code",
   "execution_count": null,
   "id": "756dee4c",
   "metadata": {},
   "outputs": [],
   "source": [
    "# The Blend model seems to perform better in both our train and test so let us finalize it.\n",
    "#The finalize_model() function trains the model on the entire dataset. \n",
    "\n",
    "finalize_blender = finalize_model(blender_specific)\n",
    "display(finalize_blender)"
   ]
  },
  {
   "cell_type": "markdown",
   "id": "bf16eb2f",
   "metadata": {},
   "source": [
    "## Analyze the Performance of Final Model on Entire Dataset"
   ]
  },
  {
   "cell_type": "code",
   "execution_count": null,
   "id": "e181c385",
   "metadata": {},
   "outputs": [],
   "source": [
    "# The predict_model() can be executed with the final blend model over the entire dataset and saved to a csv file. \n",
    "pred_final_blender = predict_model(finalize_blender, data=df)\n",
    "pred_final_blender.to_csv('pred_final_blender.csv')\n",
    "pred_final_blender.describe().T"
   ]
  },
  {
   "cell_type": "code",
   "execution_count": null,
   "id": "f21617e0",
   "metadata": {},
   "outputs": [],
   "source": [
    "# We can use the Pycaret's built-in plot_model() function to generate Residuals and Error plots for the finalized blend model. \n",
    "fig = plt.figure(figsize=(9,10))\n",
    "ax = fig.add_subplot(2,1,1)\n",
    "plot_model(finalize_blender, plot='residuals', save=False, verbose=False, scale=0.7)\n",
    "ax = fig.add_subplot(2,1,2)\n",
    "plot_model(finalize_blender, plot='error', save=False, verbose=False, scale=0.7)\n",
    "plt.show()"
   ]
  },
  {
   "cell_type": "code",
   "execution_count": null,
   "id": "00de9abe",
   "metadata": {},
   "outputs": [],
   "source": [
    "# An interesting view is looking at the Actual Values and Predicted Values (Label) in \n",
    "#a histogram over the entire dataset. This shows the distribution between the values.\n",
    "#We can see how the Predicted Values seem to peak in a more distributed manner and skew to the left. \n",
    "\n",
    "plt.figure(figsize=(15,5))\n",
    "sns.set_style(\"whitegrid\")\n",
    "sns.distplot(pred_final_blender[\"WTI_Price\"],\n",
    "                bins=20,\n",
    "                kde=False,\n",
    "                color=\"#c6690c\")\n",
    "sns.distplot(pred_final_blender[\"prediction_label\"],\n",
    "                bins=20,\n",
    "                kde=False,\n",
    "                color=\"#664697\")\n",
    "plt.title(\"Distribution between Actual Value and Predicted Value (Label)\")\n",
    "plt.ylabel(\"Count\")\n",
    "plt.xlabel(\"FCR Value\")\n",
    "plt.legend(('Actual Value', 'Predicted Value (Label)'), ncol=2, loc='upper left', fontsize=12)\n",
    "plt.show()"
   ]
  },
  {
   "cell_type": "code",
   "execution_count": null,
   "id": "5a56bb09",
   "metadata": {},
   "outputs": [],
   "source": [
    "# We can plot the Predicted Value (Label) and Actual Value over the entire dataset. \n",
    "sns.regplot(x=\"WTI_Price\", y=\"prediction_label\",\n",
    "            data=pred_final_blender, lowess=False, \n",
    "            scatter_kws ={'s':50}, \n",
    "            line_kws={\"color\": \"#664697\"},\n",
    "            color=\"#c6690c\")\n",
    "\n",
    "plt.title(\"Linear Relationship between Actual Value and Predicted Value (Label)\")\n",
    "plt.ylabel(\"Predicted Value (Label)\")\n",
    "plt.xlabel(\"Actual Value\")\n",
    "plt.legend(('Best Fit', 'Actual Value vs Predicted Value (Label)'), ncol=2, loc='upper left', fontsize=12)\n",
    "plt.show()"
   ]
  },
  {
   "cell_type": "code",
   "execution_count": null,
   "id": "71a7e4c4",
   "metadata": {},
   "outputs": [],
   "source": [
    "# We can compare the Predicted Values (Label) and Residuals in an error plot over the entire dataset. \n",
    "sns.residplot(x=\"WTI_Price\", y=\"prediction_label\",\n",
    "              data=pred_final_blender, lowess=False,\n",
    "              scatter_kws ={'s':50},\n",
    "              line_kws={\"color\": \"#664697\"},\n",
    "              color=\"#c6690c\")\n",
    "\n",
    "plt.title(\"Residuals for the Predicted values in Final Blend Model\")\n",
    "plt.ylabel(\"Residuals\")\n",
    "plt.xlabel(\"Predicted Value (Label)\")\n",
    "#plt.xlim((74,101))\n",
    "plt.legend(('Best Fit', 'Predicted Value (Label)'), ncol=2, loc='upper left', fontsize=12)"
   ]
  },
  {
   "cell_type": "code",
   "execution_count": null,
   "id": "95ee17ad",
   "metadata": {},
   "outputs": [],
   "source": []
  },
  {
   "cell_type": "code",
   "execution_count": null,
   "id": "82ae69f6",
   "metadata": {},
   "outputs": [],
   "source": [
    "# Sometimes you want to include the output of the compare_models() as a screenshot into a report. However, with the yellow highlights it gets difficult to read. Pycaret has thought of that and you can use the pull() function to show the model results in the sort by or ascending order.\n",
    "pull().sort_values(by='RMSE', ascending=True)"
   ]
  },
  {
   "cell_type": "code",
   "execution_count": null,
   "id": "376c059a",
   "metadata": {},
   "outputs": [],
   "source": [
    "# Below is a list of models that Pycaret can use for regression. The ID for each regression can be used to include or exclude models for various functions.\n",
    "models()"
   ]
  },
  {
   "cell_type": "code",
   "execution_count": null,
   "id": "122c0b16",
   "metadata": {},
   "outputs": [],
   "source": []
  }
 ],
 "metadata": {
  "kernelspec": {
   "display_name": "Python 3 (ipykernel)",
   "language": "python",
   "name": "python3"
  },
  "language_info": {
   "codemirror_mode": {
    "name": "ipython",
    "version": 3
   },
   "file_extension": ".py",
   "mimetype": "text/x-python",
   "name": "python",
   "nbconvert_exporter": "python",
   "pygments_lexer": "ipython3",
   "version": "3.9.13"
  }
 },
 "nbformat": 4,
 "nbformat_minor": 5
}
