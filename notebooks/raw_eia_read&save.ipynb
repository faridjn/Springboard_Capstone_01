{
 "cells": [
  {
   "cell_type": "code",
   "execution_count": 1,
   "id": "41bf62e0",
   "metadata": {},
   "outputs": [],
   "source": [
    "#Import the required modules\n",
    "import os\n",
    "from dotenv import load_dotenv\n",
    "\n",
    "import requests\n",
    "import json\n",
    "\n",
    "import pandas as pd\n",
    "import numpy as np\n",
    "\n",
    "import pickle"
   ]
  },
  {
   "cell_type": "code",
   "execution_count": 2,
   "id": "d17d480c",
   "metadata": {},
   "outputs": [],
   "source": [
    "#Load secret api_key from .env file\n",
    "load_dotenv()\n",
    "\n",
    "api_key = os.getenv('eia_api_key')\n",
    "#print('eia_api_key: ', api_key)"
   ]
  },
  {
   "cell_type": "code",
   "execution_count": 3,
   "id": "c8f3a55b",
   "metadata": {},
   "outputs": [],
   "source": [
    "# List EIA feature names.\n",
    "FEATURE_NAMES = [\n",
    "    'WTI_Price',\n",
    "    'Oil_Production_OPEC',\n",
    "    'Oil_Production_nonOPEC',\n",
    "    'Oil_Production_World',\n",
    "    'Henry_Hub_NG_Price',\n",
    "    'Oil_Production_US',\n",
    "    'Petrol_Consumption_OECD',\n",
    "    'Petrol_Consumption_nonOECD',\n",
    "    'US_CPI',\n",
    "    'US_PPI',\n",
    "    'US_PPI_Petroleum',\n",
    "    'US_PMI',\n",
    "    'Petroleum_Inventory_OECD',\n",
    "    'Crude_Oil_Inventory_Total',\n",
    "    'Crude_Oil_Inventory_SPR',\n",
    "    'Crude_Oil_Inventory_nonSPR',\n",
    "    'Refiner_Wholesale_Gasoline_Price ',\n",
    "    'Refiner_Wholesale_Diesel_Price',\n",
    "    'Brent_Price']\n",
    "\n",
    "# List EAT Series IDs for the features\n",
    "FEATURE_KEYS = [\n",
    "    'STEO.WTIPUUS.M',\n",
    "    'STEO.COPR_OPEC.M',\n",
    "    'STEO.PAPR_NONOPEC.M',\n",
    "    'INTL.55-1-WORL-TBPD.M',\n",
    "    'NG.RNGWHHD.M',\n",
    "    'STEO.COPRPUS.M',\n",
    "    'STEO.PATC_OECD.M',\n",
    "    'STEO.PATC_NON_OECD.M',\n",
    "    'STEO.CICPIUS.M',\n",
    "    'STEO.WPCPIUS.M',\n",
    "    'STEO.WP57IUS.M',\n",
    "    'STEO.ZOMNIUS.M',\n",
    "    'STEO.PASC_OECD_T3.M',\n",
    "    'STEO.PASXPUS.M',\n",
    "    'STEO.COSQPUS.M',\n",
    "    'STEO.COSXPUS.M',\n",
    "    'STEO.MGWHUUS.M',\n",
    "    'STEO.DSWHUUS.M',\n",
    "    'STEO.BREPUUS.M']"
   ]
  },
  {
   "cell_type": "code",
   "execution_count": 4,
   "id": "f7ea0760",
   "metadata": {},
   "outputs": [
    {
     "name": "stdout",
     "output_type": "stream",
     "text": [
      "Success:  STEO.WTIPUUS.M\n",
      "Success:  STEO.COPR_OPEC.M\n",
      "Success:  STEO.PAPR_NONOPEC.M\n",
      "Success:  INTL.55-1-WORL-TBPD.M\n",
      "Success:  NG.RNGWHHD.M\n",
      "Success:  STEO.COPRPUS.M\n",
      "Success:  STEO.PATC_OECD.M\n",
      "Success:  STEO.PATC_NON_OECD.M\n",
      "Success:  STEO.CICPIUS.M\n",
      "Success:  STEO.WPCPIUS.M\n",
      "Success:  STEO.WP57IUS.M\n",
      "Success:  STEO.ZOMNIUS.M\n",
      "Success:  STEO.PASC_OECD_T3.M\n",
      "Success:  STEO.PASXPUS.M\n",
      "Success:  STEO.COSQPUS.M\n",
      "Success:  STEO.COSXPUS.M\n",
      "Success:  STEO.MGWHUUS.M\n",
      "Success:  STEO.DSWHUUS.M\n",
      "Success:  STEO.BREPUUS.M\n"
     ]
    }
   ],
   "source": [
    "# Initialize list; this is the final list that will store all the data from the json pull. \n",
    "final_data = []\n",
    "\n",
    "# Pull in data via EIA API\n",
    "for i in range(len(FEATURE_KEYS)):\n",
    "    url = 'http://api.eia.gov/series/?api_key=' + api_key +'&series_id=' + FEATURE_KEYS[i]\n",
    "               \n",
    "    r = requests.get(url)\n",
    "    json_data = r.json()\n",
    "    \n",
    "    if r.status_code == 200:\n",
    "        print('Success: ', FEATURE_KEYS[i])\n",
    "    else:\n",
    "        print('Error!')\n",
    "    \n",
    "    # Cast the json pull to pandas dataframe\n",
    "    df = pd.DataFrame(json_data.get('series')[0].get('data'),\n",
    "                      columns = ['Date', FEATURE_NAMES[i]])\n",
    "    df.set_index('Date', drop=True, inplace=True)\n",
    "    \n",
    "    # Concat the pandas dataframe into a list\n",
    "    final_data.append(df)"
   ]
  },
  {
   "cell_type": "code",
   "execution_count": 35,
   "id": "4791ad31",
   "metadata": {},
   "outputs": [
    {
     "name": "stdout",
     "output_type": "stream",
     "text": [
      "        WTI_Price\n",
      "Date             \n",
      "202312       89.0\n",
      "202311       89.0\n",
      "202310       89.0\n",
      "202309       90.0\n",
      "202308       90.0\n",
      "\n",
      "\n",
      "        Brent_Price\n",
      "Date               \n",
      "202312         95.0\n",
      "202311         95.0\n",
      "202310         95.0\n",
      "202309         96.0\n",
      "202308         96.0\n"
     ]
    }
   ],
   "source": [
    "# Print head of first and last dataframe in the list\n",
    "print(final_data[0].head())\n",
    "print('\\n')\n",
    "print(final_data[-1].head())"
   ]
  },
  {
   "cell_type": "code",
   "execution_count": 36,
   "id": "8de78a9c",
   "metadata": {},
   "outputs": [
    {
     "name": "stdout",
     "output_type": "stream",
     "text": [
      "CWD:  D:\\gitProjects\\springboard_capstone_1\\Springboard_Capstone_01\\notebooks\n"
     ]
    }
   ],
   "source": [
    "# Print the Current Working Directory (CWD)\n",
    "print('CWD: ', os.getcwd())"
   ]
  },
  {
   "cell_type": "code",
   "execution_count": 37,
   "id": "a2f0ef13",
   "metadata": {},
   "outputs": [
    {
     "name": "stdout",
     "output_type": "stream",
     "text": [
      "D:\\gitProjects\\springboard_capstone_1\\Springboard_Capstone_01\n"
     ]
    }
   ],
   "source": [
    "# Change directory one step back and save as the root directory\n",
    "ROOT_DIR = os.path.normpath(os.getcwd() + os.sep + os.pardir)\n",
    "print(ROOT_DIR)"
   ]
  },
  {
   "cell_type": "code",
   "execution_count": 38,
   "id": "3dc94324",
   "metadata": {},
   "outputs": [],
   "source": [
    "#Change direcotry to the 'data\\intetrim' folder\n",
    "data_dir = ROOT_DIR + '\\\\data\\\\interim\\\\'\n",
    "\n",
    "# Set a file name\n",
    "file_name = data_dir + 'eia_data_raw.csv'"
   ]
  },
  {
   "cell_type": "code",
   "execution_count": 39,
   "id": "dc992add",
   "metadata": {},
   "outputs": [],
   "source": [
    "# open file in write binary mode\n",
    "myfile = open(file_name, \"wb\")  \n",
    "\n",
    "# dump list data into file \n",
    "pickle.dump(final_data, myfile)  \n",
    "\n",
    "# close file pointer\n",
    "myfile.close()  "
   ]
  },
  {
   "cell_type": "code",
   "execution_count": null,
   "id": "87212edd",
   "metadata": {},
   "outputs": [],
   "source": []
  }
 ],
 "metadata": {
  "kernelspec": {
   "display_name": "Python 3 (ipykernel)",
   "language": "python",
   "name": "python3"
  },
  "language_info": {
   "codemirror_mode": {
    "name": "ipython",
    "version": 3
   },
   "file_extension": ".py",
   "mimetype": "text/x-python",
   "name": "python",
   "nbconvert_exporter": "python",
   "pygments_lexer": "ipython3",
   "version": "3.9.13"
  }
 },
 "nbformat": 4,
 "nbformat_minor": 5
}
