{
 "cells": [
  {
   "attachments": {},
   "cell_type": "markdown",
   "id": "82ca45da",
   "metadata": {},
   "source": [
    "# Read Offline from CSV"
   ]
  },
  {
   "cell_type": "markdown",
   "id": "aaedf67c",
   "metadata": {},
   "source": [
    "## Overview\n",
    "Data manually downloaded from\n",
    "\n",
    " - **WSJ.com**\n",
    "  \n",
    " - **Investing.com**\n",
    "\n",
    "  \n",
    "### Offline Data\n",
    "\n",
    "| No | Symbol | Index Name | Source | URL Address |\n",
    "| :--- | :----- | :----- | :---- | :----- |\n",
    "| 1 | COMEX_Gold | Gold: Future closing price | Investing | https://www.investing.com/commodities/gold-historical-data |\n",
    "| 2 | DXY | US Dollar Index  | Investing | https://www.investing.com/indices/usdollar-historical-data |\n",
    "| 3 | LME_Copper | Copper: Future closing price | Investing | https://www.investing.com/commodities/copper-historical-data |\n",
    "| 4 | COMP | NASDAQ index | WSJ | https://www.wsj.com/market-data/quotes/index/COMP/historical-prices |\n",
    "| 5 | DJIA | Dow Jones Industrial Index | WSJ | https://www.wsj.com/market-data/quotes/index/DJIA/historical-prices |\n",
    "| 6 | SPX | S&P 500 index | WSJ | https://www.wsj.com/market-data/quotes/index/SPX/historical-prices |\n",
    "\n",
    "\n",
    "---\n",
    "### Data fields\n",
    "\n",
    "WSJ: `['Date', 'Open', 'High', 'Low', 'Close']`\n",
    "\n",
    "Investing:`['Date', 'Price', 'Open','High','Low','Vol','Change']`"
   ]
  },
  {
   "cell_type": "markdown",
   "id": "55020b25",
   "metadata": {},
   "source": [
    "## Import Libraries"
   ]
  },
  {
   "cell_type": "code",
   "execution_count": 1,
   "id": "235ddca7",
   "metadata": {},
   "outputs": [],
   "source": [
    "# import necessary libraries\n",
    "import pandas as pd\n",
    "import os\n",
    "import glob\n",
    "\n",
    "import pickle"
   ]
  },
  {
   "cell_type": "markdown",
   "id": "580de8af",
   "metadata": {},
   "source": [
    "## Custom functions"
   ]
  },
  {
   "cell_type": "code",
   "execution_count": 2,
   "id": "25508a7d",
   "metadata": {},
   "outputs": [],
   "source": [
    "def get_file_name(file_name):\n",
    "    '''\n",
    "    Get full file address and return the name\n",
    "    '''\n",
    "    name_ext = file_name.split(\"\\\\\")[-1]\n",
    "    name = name_ext.split(\".\")[0]\n",
    "    \n",
    "    return name"
   ]
  },
  {
   "cell_type": "code",
   "execution_count": 3,
   "id": "f88d104c",
   "metadata": {},
   "outputs": [],
   "source": [
    "def monthly_average(df):\n",
    "    '''\n",
    "    Get a dataframe with daily records \n",
    "    and return a new df with monthly average\n",
    "    '''\n",
    "    df['month'] = pd.DatetimeIndex(df.index).month\n",
    "    df['year'] = pd.DatetimeIndex(df.index).year\n",
    "    \n",
    "    dfg = df.groupby(['year','month'], as_index=False).mean()\n",
    "    dfg['Date'] = pd.to_datetime(dict(year = dfg.year, month = dfg.month, day = 1))\n",
    "    \n",
    "    dfg = dfg.drop(columns = ['month','year'])\n",
    "    \n",
    "    dfg.set_index('Date', drop=True, inplace=True)\n",
    "    \n",
    "    return dfg"
   ]
  },
  {
   "cell_type": "markdown",
   "id": "04dc7f16",
   "metadata": {},
   "source": [
    "## Set Directories"
   ]
  },
  {
   "cell_type": "code",
   "execution_count": 4,
   "id": "8b8f3e8f",
   "metadata": {},
   "outputs": [
    {
     "name": "stdout",
     "output_type": "stream",
     "text": [
      "D:\\gitProjects\\springboard_capstone_1\\Springboard_Capstone_01\\data\\raw\\\n"
     ]
    }
   ],
   "source": [
    "# Change directory one step back and save as the root directory\n",
    "ROOT_DIR = os.path.normpath(os.getcwd() + os.sep + os.pardir)\n",
    "\n",
    "# Change direcotry to the 'data\\raw' folder\n",
    "path = ROOT_DIR + '\\\\data\\\\raw\\\\'\n",
    "print(path)"
   ]
  },
  {
   "cell_type": "code",
   "execution_count": 5,
   "id": "ea8da272",
   "metadata": {},
   "outputs": [
    {
     "data": {
      "text/plain": [
       "['D:\\\\gitProjects\\\\springboard_capstone_1\\\\Springboard_Capstone_01\\\\data\\\\raw\\\\COMP.csv',\n",
       " 'D:\\\\gitProjects\\\\springboard_capstone_1\\\\Springboard_Capstone_01\\\\data\\\\raw\\\\Copper_Futures.csv',\n",
       " 'D:\\\\gitProjects\\\\springboard_capstone_1\\\\Springboard_Capstone_01\\\\data\\\\raw\\\\DJIA.csv',\n",
       " 'D:\\\\gitProjects\\\\springboard_capstone_1\\\\Springboard_Capstone_01\\\\data\\\\raw\\\\DXY.csv',\n",
       " 'D:\\\\gitProjects\\\\springboard_capstone_1\\\\Springboard_Capstone_01\\\\data\\\\raw\\\\Gold_Futures.csv',\n",
       " 'D:\\\\gitProjects\\\\springboard_capstone_1\\\\Springboard_Capstone_01\\\\data\\\\raw\\\\SPX.csv']"
      ]
     },
     "metadata": {},
     "output_type": "display_data"
    }
   ],
   "source": [
    "# use glob to get all the csv files in the folder\n",
    "csv_files = glob.glob(os.path.join(path, \"*.csv\"))\n",
    "#dispaly csv file list\n",
    "display(csv_files)"
   ]
  },
  {
   "cell_type": "markdown",
   "id": "1adccb03",
   "metadata": {},
   "source": [
    "## Load all CSV files"
   ]
  },
  {
   "cell_type": "code",
   "execution_count": 6,
   "id": "00d29e3c",
   "metadata": {},
   "outputs": [
    {
     "name": "stdout",
     "output_type": "stream",
     "text": [
      "Sucess: COMP\n",
      "Sucess: Copper_Futures\n",
      "Sucess: DJIA\n",
      "Sucess: DXY\n",
      "Sucess: Gold_Futures\n",
      "Sucess: SPX\n"
     ]
    }
   ],
   "source": [
    "# Initialize list; this is the final list that will store all the data from the json pull. \n",
    "read_data = []\n",
    "\n",
    "# loop over the list of csv files\n",
    "for f in csv_files:\n",
    "        \n",
    "    # read the csv file    \n",
    "    df = pd.read_csv(f, sep = ',', thousands=',')\n",
    "    \n",
    "    if ' Close' in df.columns:\n",
    "        #rename column name\n",
    "        df.columns = ['Date', 'Open', 'High', 'Low', 'Close']\n",
    "        value = 'Close'\n",
    "        format_date = '%m/%d/%y'\n",
    "        \n",
    "        \n",
    "    if 'Price' in df.columns:\n",
    "        df.columns = ['Date', 'Price', 'Open','High','Low','Vol','Change']\n",
    "        value = 'Price'\n",
    "        format_date = '%m/%d/%Y'\n",
    "    \n",
    "    #select columns\n",
    "    df = df[['Date', value]]\n",
    "\n",
    "    #change data type to date and numeric\n",
    "    df['value'] = pd.to_numeric(df[value])\n",
    "    df['Date'] = pd.to_datetime(df['Date'], format=format_date, errors=\"raise\")\n",
    "    \n",
    "    df = df.drop(columns = [value])\n",
    "    df = df.rename(columns = {'value': get_file_name(f)}, errors=\"raise\")\n",
    "    \n",
    "    #set Date as index\n",
    "    df.set_index('Date', drop=True, inplace=True)\n",
    "    \n",
    "    print('Sucess:', get_file_name(f))\n",
    "    #display(df.head())\n",
    "    \n",
    "    read_data.append(df)\n",
    "    # print the success report\n",
    "    \n"
   ]
  },
  {
   "cell_type": "markdown",
   "id": "7397056c",
   "metadata": {},
   "source": [
    "## Data"
   ]
  },
  {
   "cell_type": "markdown",
   "id": "6d0461be",
   "metadata": {},
   "source": [
    "### Print the features and sizes"
   ]
  },
  {
   "cell_type": "code",
   "execution_count": 7,
   "id": "c5a4a621",
   "metadata": {},
   "outputs": [
    {
     "name": "stdout",
     "output_type": "stream",
     "text": [
      "0: COMP (1*5738)\n",
      "1: Copper_Futures (1*274)\n",
      "2: DJIA (1*5737)\n",
      "3: DXY (1*274)\n",
      "4: Gold_Futures (1*274)\n",
      "5: SPX (1*5737)\n"
     ]
    }
   ],
   "source": [
    "for i in range(len(read_data)):\n",
    "    name = read_data[i].columns[0]\n",
    "    size = len(read_data[i])\n",
    "    phrase = str(i) + ': '+ name + ' (1*' + str(size) + ')'\n",
    "    print(phrase)"
   ]
  },
  {
   "cell_type": "markdown",
   "id": "b58d2a01",
   "metadata": {},
   "source": [
    "### Merge_order all data frames"
   ]
  },
  {
   "cell_type": "code",
   "execution_count": 8,
   "id": "9738a81d",
   "metadata": {},
   "outputs": [],
   "source": [
    "df = read_data[0]\n",
    "dfg = monthly_average(df)\n",
    "dfg.index = pd.to_datetime(dfg.index, format = '%Y%m%d',errors='coerce')\n",
    "\n",
    "for df_temp in read_data[1:]:\n",
    "    dfg_temp = monthly_average(df_temp)\n",
    "    dfg_temp.index = pd.to_datetime(dfg_temp.index, format = '%Y%m%d',errors='coerce')\n",
    "    dfg = pd.merge_ordered(dfg, dfg_temp, on = 'Date')"
   ]
  },
  {
   "cell_type": "markdown",
   "id": "0a9e6dd8",
   "metadata": {},
   "source": [
    "## Check the final dataframe"
   ]
  },
  {
   "cell_type": "code",
   "execution_count": 9,
   "id": "a1d2948c",
   "metadata": {},
   "outputs": [
    {
     "data": {
      "text/html": [
       "<div>\n",
       "<style scoped>\n",
       "    .dataframe tbody tr th:only-of-type {\n",
       "        vertical-align: middle;\n",
       "    }\n",
       "\n",
       "    .dataframe tbody tr th {\n",
       "        vertical-align: top;\n",
       "    }\n",
       "\n",
       "    .dataframe thead th {\n",
       "        text-align: right;\n",
       "    }\n",
       "</style>\n",
       "<table border=\"1\" class=\"dataframe\">\n",
       "  <thead>\n",
       "    <tr style=\"text-align: right;\">\n",
       "      <th></th>\n",
       "      <th>Date</th>\n",
       "      <th>COMP</th>\n",
       "      <th>Copper_Futures</th>\n",
       "      <th>DJIA</th>\n",
       "      <th>DXY</th>\n",
       "      <th>Gold_Futures</th>\n",
       "      <th>SPX</th>\n",
       "    </tr>\n",
       "  </thead>\n",
       "  <tbody>\n",
       "    <tr>\n",
       "      <th>0</th>\n",
       "      <td>2000-01-01</td>\n",
       "      <td>4013.494000</td>\n",
       "      <td>0.8545</td>\n",
       "      <td>11281.263000</td>\n",
       "      <td>105.13</td>\n",
       "      <td>286.20</td>\n",
       "      <td>1425.585500</td>\n",
       "    </tr>\n",
       "    <tr>\n",
       "      <th>1</th>\n",
       "      <td>2000-02-01</td>\n",
       "      <td>4410.871000</td>\n",
       "      <td>0.7980</td>\n",
       "      <td>10541.929500</td>\n",
       "      <td>105.92</td>\n",
       "      <td>295.40</td>\n",
       "      <td>1388.874000</td>\n",
       "    </tr>\n",
       "    <tr>\n",
       "      <th>2</th>\n",
       "      <td>2000-03-01</td>\n",
       "      <td>4802.988261</td>\n",
       "      <td>0.8085</td>\n",
       "      <td>10483.390435</td>\n",
       "      <td>105.44</td>\n",
       "      <td>281.40</td>\n",
       "      <td>1442.213043</td>\n",
       "    </tr>\n",
       "    <tr>\n",
       "      <th>3</th>\n",
       "      <td>2000-04-01</td>\n",
       "      <td>3863.637368</td>\n",
       "      <td>0.7960</td>\n",
       "      <td>10944.310526</td>\n",
       "      <td>110.14</td>\n",
       "      <td>276.00</td>\n",
       "      <td>1461.355263</td>\n",
       "    </tr>\n",
       "    <tr>\n",
       "      <th>4</th>\n",
       "      <td>2000-05-01</td>\n",
       "      <td>3528.416818</td>\n",
       "      <td>0.8160</td>\n",
       "      <td>10580.267727</td>\n",
       "      <td>108.74</td>\n",
       "      <td>274.80</td>\n",
       "      <td>1418.479545</td>\n",
       "    </tr>\n",
       "    <tr>\n",
       "      <th>...</th>\n",
       "      <td>...</td>\n",
       "      <td>...</td>\n",
       "      <td>...</td>\n",
       "      <td>...</td>\n",
       "      <td>...</td>\n",
       "      <td>...</td>\n",
       "      <td>...</td>\n",
       "    </tr>\n",
       "    <tr>\n",
       "      <th>269</th>\n",
       "      <td>2022-06-01</td>\n",
       "      <td>11418.919048</td>\n",
       "      <td>3.7100</td>\n",
       "      <td>31446.712857</td>\n",
       "      <td>104.68</td>\n",
       "      <td>1812.00</td>\n",
       "      <td>3898.946667</td>\n",
       "    </tr>\n",
       "    <tr>\n",
       "      <th>270</th>\n",
       "      <td>2022-07-01</td>\n",
       "      <td>11622.631500</td>\n",
       "      <td>3.5750</td>\n",
       "      <td>31535.323500</td>\n",
       "      <td>106.00</td>\n",
       "      <td>1771.50</td>\n",
       "      <td>3911.729500</td>\n",
       "    </tr>\n",
       "    <tr>\n",
       "      <th>271</th>\n",
       "      <td>2022-08-01</td>\n",
       "      <td>12570.260435</td>\n",
       "      <td>3.5190</td>\n",
       "      <td>33009.564783</td>\n",
       "      <td>108.85</td>\n",
       "      <td>1721.40</td>\n",
       "      <td>4158.563043</td>\n",
       "    </tr>\n",
       "    <tr>\n",
       "      <th>272</th>\n",
       "      <td>2022-09-01</td>\n",
       "      <td>11413.214091</td>\n",
       "      <td>3.4125</td>\n",
       "      <td>30649.559524</td>\n",
       "      <td>112.12</td>\n",
       "      <td>1672.00</td>\n",
       "      <td>3850.520476</td>\n",
       "    </tr>\n",
       "    <tr>\n",
       "      <th>273</th>\n",
       "      <td>2022-10-01</td>\n",
       "      <td>10719.294615</td>\n",
       "      <td>3.3325</td>\n",
       "      <td>29828.054615</td>\n",
       "      <td>112.77</td>\n",
       "      <td>1634.55</td>\n",
       "      <td>3673.934615</td>\n",
       "    </tr>\n",
       "  </tbody>\n",
       "</table>\n",
       "<p>274 rows × 7 columns</p>\n",
       "</div>"
      ],
      "text/plain": [
       "          Date          COMP  Copper_Futures          DJIA     DXY  \\\n",
       "0   2000-01-01   4013.494000          0.8545  11281.263000  105.13   \n",
       "1   2000-02-01   4410.871000          0.7980  10541.929500  105.92   \n",
       "2   2000-03-01   4802.988261          0.8085  10483.390435  105.44   \n",
       "3   2000-04-01   3863.637368          0.7960  10944.310526  110.14   \n",
       "4   2000-05-01   3528.416818          0.8160  10580.267727  108.74   \n",
       "..         ...           ...             ...           ...     ...   \n",
       "269 2022-06-01  11418.919048          3.7100  31446.712857  104.68   \n",
       "270 2022-07-01  11622.631500          3.5750  31535.323500  106.00   \n",
       "271 2022-08-01  12570.260435          3.5190  33009.564783  108.85   \n",
       "272 2022-09-01  11413.214091          3.4125  30649.559524  112.12   \n",
       "273 2022-10-01  10719.294615          3.3325  29828.054615  112.77   \n",
       "\n",
       "     Gold_Futures          SPX  \n",
       "0          286.20  1425.585500  \n",
       "1          295.40  1388.874000  \n",
       "2          281.40  1442.213043  \n",
       "3          276.00  1461.355263  \n",
       "4          274.80  1418.479545  \n",
       "..            ...          ...  \n",
       "269       1812.00  3898.946667  \n",
       "270       1771.50  3911.729500  \n",
       "271       1721.40  4158.563043  \n",
       "272       1672.00  3850.520476  \n",
       "273       1634.55  3673.934615  \n",
       "\n",
       "[274 rows x 7 columns]"
      ]
     },
     "metadata": {},
     "output_type": "display_data"
    }
   ],
   "source": [
    "display(dfg)"
   ]
  },
  {
   "cell_type": "markdown",
   "id": "b044b49a",
   "metadata": {},
   "source": [
    "## Store the data"
   ]
  },
  {
   "cell_type": "code",
   "execution_count": 10,
   "id": "a4284d21",
   "metadata": {},
   "outputs": [
    {
     "name": "stdout",
     "output_type": "stream",
     "text": [
      "Save:\n",
      " D:\\gitProjects\\springboard_capstone_1\\Springboard_Capstone_01\\data\\interim\\offline_data_raw.csv\n"
     ]
    }
   ],
   "source": [
    "# Change direcotry to the 'data\\raw' folder\n",
    "save_dir = ROOT_DIR + '\\\\data\\\\interim\\\\'\n",
    "\n",
    "# Set a file name\n",
    "file_save = save_dir + 'offline_data_raw.csv'\n",
    "dfg.to_csv(file_save)\n",
    "\n",
    "print('Save:\\n', file_save)"
   ]
  },
  {
   "cell_type": "code",
   "execution_count": null,
   "id": "daa828e4",
   "metadata": {},
   "outputs": [],
   "source": []
  }
 ],
 "metadata": {
  "kernelspec": {
   "display_name": "Python 3 (ipykernel)",
   "language": "python",
   "name": "python3"
  },
  "language_info": {
   "codemirror_mode": {
    "name": "ipython",
    "version": 3
   },
   "file_extension": ".py",
   "mimetype": "text/x-python",
   "name": "python",
   "nbconvert_exporter": "python",
   "pygments_lexer": "ipython3",
   "version": "3.9.13"
  }
 },
 "nbformat": 4,
 "nbformat_minor": 5
}
