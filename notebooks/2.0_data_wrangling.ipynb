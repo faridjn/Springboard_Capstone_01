{
 "cells": [
  {
   "cell_type": "markdown",
   "id": "2c1344a8",
   "metadata": {},
   "source": [
    "# Data Wrangling"
   ]
  },
  {
   "cell_type": "markdown",
   "id": "326f5b92",
   "metadata": {},
   "source": [
    "## Libraries"
   ]
  },
  {
   "cell_type": "markdown",
   "id": "80d4acbf",
   "metadata": {},
   "source": [
    "### Install"
   ]
  },
  {
   "cell_type": "code",
   "execution_count": 1,
   "id": "9beba0ff",
   "metadata": {},
   "outputs": [],
   "source": [
    "#pip install missingno"
   ]
  },
  {
   "cell_type": "markdown",
   "id": "3c104f3f",
   "metadata": {},
   "source": [
    "### Imports"
   ]
  },
  {
   "cell_type": "code",
   "execution_count": 2,
   "id": "41bf62e0",
   "metadata": {},
   "outputs": [],
   "source": [
    "#Import the relevant modules\n",
    "import os\n",
    "import glob\n",
    "\n",
    "import pandas as pd\n",
    "import numpy as np\n",
    "\n",
    "import datetime as dt\n",
    "import datetime\n",
    "\n",
    "import matplotlib.pyplot as plt\n",
    "import matplotlib.dates as mdates\n",
    "import seaborn as sns\n",
    "\n",
    "from pathlib import Path\n",
    "\n",
    "import missingno as msno\n"
   ]
  },
  {
   "cell_type": "markdown",
   "id": "2c254b5f",
   "metadata": {},
   "source": [
    "## Read Data"
   ]
  },
  {
   "cell_type": "code",
   "execution_count": 3,
   "id": "892fb3f7",
   "metadata": {},
   "outputs": [],
   "source": [
    "# Change directory one step back and save as the root directory\n",
    "ROOT_DIR = os.path.normpath(os.getcwd() + os.sep + os.pardir)\n",
    "\n",
    "#Define start and end dates\n",
    "fromDate = '2000-01-01'\n",
    "toDate = '2022-10-20'"
   ]
  },
  {
   "cell_type": "code",
   "execution_count": 4,
   "id": "e8cb0c0d",
   "metadata": {},
   "outputs": [],
   "source": [
    "def get_file_name(file_name):\n",
    "    name_ext = file_name.split(\"\\\\\")[-1]\n",
    "    name = name_ext.split(\".\")[0]\n",
    "    return name"
   ]
  },
  {
   "cell_type": "code",
   "execution_count": 5,
   "id": "b0b61a4f",
   "metadata": {},
   "outputs": [],
   "source": [
    "#Provide the name of CSV datasets\n",
    "my_datasets_csv = [\n",
    "    'eia_data_raw.csv',\n",
    "    'fred_data_raw.csv',\n",
    "    'offline_data_raw.csv']"
   ]
  },
  {
   "cell_type": "code",
   "execution_count": 6,
   "id": "22851e01",
   "metadata": {},
   "outputs": [],
   "source": [
    "# Change directory one step back and save as the root directory\n",
    "ROOT_DIR = os.path.normpath(os.getcwd() + os.sep + os.pardir)\n",
    "\n",
    "# Change direcotry to the 'data\\interim' folder\n",
    "path = ROOT_DIR + '\\\\data\\\\interim\\\\'\n",
    "\n",
    "#Get the full file names (including directory)\n",
    "for i in range(len(my_datasets_csv)):\n",
    "    my_datasets_csv[i] = path + my_datasets_csv[i]"
   ]
  },
  {
   "cell_type": "code",
   "execution_count": 7,
   "id": "1559b4de",
   "metadata": {},
   "outputs": [
    {
     "name": "stdout",
     "output_type": "stream",
     "text": [
      "eia_data_raw\n",
      "(274, 20)\n",
      "fred_data_raw\n",
      "(274, 8)\n",
      "offline_data_raw\n",
      "(274, 7)\n"
     ]
    }
   ],
   "source": [
    "# Initialize list; this is the final list that will store all the data from the json pull. \n",
    "data = []\n",
    "\n",
    "# loop over the list of csv files\n",
    "for f in my_datasets_csv:\n",
    "    #print file name\n",
    "    print(get_file_name(f))\n",
    "    \n",
    "    #read the csv file into a new dataframe\n",
    "    new_data = pd.read_csv(f)\n",
    "    \n",
    "    #drop the header\n",
    "    new_data = new_data.drop(columns = ['Unnamed: 0'])\n",
    "    \n",
    "    #filter using from-to-dates\n",
    "    new_data = new_data.loc[(new_data['Date'] >= fromDate) & (new_data['Date'] <= toDate)]\n",
    "    \n",
    "    #print the dataframe shape\n",
    "    print(new_data.shape)\n",
    "\n",
    "    data.append(new_data)"
   ]
  },
  {
   "cell_type": "markdown",
   "id": "cbb39ca1",
   "metadata": {},
   "source": [
    "## Merge dataframes"
   ]
  },
  {
   "cell_type": "code",
   "execution_count": 8,
   "id": "b27875b3",
   "metadata": {},
   "outputs": [],
   "source": [
    "#find the df with longest dataseries\n",
    "max_val = data[0].shape[0]\n",
    "max_idx = 0\n",
    "\n",
    "for i in range(len(data)):    \n",
    "    size = size = data[i].shape[0]\n",
    "    if size>max_val:\n",
    "        max_val = size\n",
    "        max_idx = i"
   ]
  },
  {
   "cell_type": "code",
   "execution_count": 9,
   "id": "618c2e4e",
   "metadata": {},
   "outputs": [],
   "source": [
    "#initiate the df with the the longest timeseries\n",
    "df = data[max_idx]\n",
    "for i in range(0, len(data)):\n",
    "    if i != max_idx:\n",
    "        df_temp = data[i]\n",
    "        df = pd.merge_ordered(df, df_temp, on = 'Date')\n",
    "\n",
    "df.set_index('Date', drop=True, inplace=True)"
   ]
  },
  {
   "cell_type": "code",
   "execution_count": 10,
   "id": "7e52c2d0",
   "metadata": {},
   "outputs": [],
   "source": [
    "#sort data\n",
    "df.sort_index(axis = 0, inplace = True)"
   ]
  },
  {
   "cell_type": "markdown",
   "id": "fbc5a348",
   "metadata": {},
   "source": [
    "#### Set Date format for index\n"
   ]
  },
  {
   "cell_type": "code",
   "execution_count": 11,
   "id": "175fe795",
   "metadata": {},
   "outputs": [],
   "source": [
    "#import datetime\n",
    "\n",
    "df.index = pd.to_datetime(df.index)"
   ]
  },
  {
   "cell_type": "markdown",
   "id": "ca5f0aab",
   "metadata": {},
   "source": [
    "## Explore features"
   ]
  },
  {
   "cell_type": "markdown",
   "id": "827f9edb",
   "metadata": {},
   "source": [
    "### Check data types and counts"
   ]
  },
  {
   "cell_type": "code",
   "execution_count": 13,
   "id": "1d34195d",
   "metadata": {},
   "outputs": [
    {
     "data": {
      "text/plain": [
       "(274, 32)"
      ]
     },
     "execution_count": 13,
     "metadata": {},
     "output_type": "execute_result"
    }
   ],
   "source": [
    "df.shape"
   ]
  },
  {
   "cell_type": "code",
   "execution_count": null,
   "id": "9e8cb875",
   "metadata": {},
   "outputs": [],
   "source": [
    "df.info()"
   ]
  },
  {
   "cell_type": "markdown",
   "id": "533e21a9",
   "metadata": {},
   "source": [
    "### Display head and tail of data"
   ]
  },
  {
   "cell_type": "code",
   "execution_count": null,
   "id": "9654c84b",
   "metadata": {},
   "outputs": [],
   "source": [
    "#newest data records\n",
    "def display_df(df, n_records):\n",
    "    size = len(df)\n",
    "    print(f'{n_records} / {size} records from the dataframe tail:')\n",
    "    display(df.tail(n_records).round(1).T)\n",
    "    print(f'\\n{n_records} / {size} records from the dataframe head:')\n",
    "    display(df.head(n_records).round(1).T)"
   ]
  },
  {
   "cell_type": "code",
   "execution_count": null,
   "id": "f54e6a67",
   "metadata": {
    "scrolled": false
   },
   "outputs": [],
   "source": [
    "#oldest and newsr data records\n",
    "display_df(df, 7)"
   ]
  },
  {
   "cell_type": "markdown",
   "id": "f571d394",
   "metadata": {},
   "source": [
    "## Missing data"
   ]
  },
  {
   "cell_type": "code",
   "execution_count": null,
   "id": "52533bc5",
   "metadata": {},
   "outputs": [],
   "source": [
    "def count_missing(df):\n",
    "    ''' Count the number of missing values .isnull() in each column well as the percentages \n",
    "    Call pd.concat() to form a single table df with 'count' and '%' columns'''\n",
    "    \n",
    "    missing = pd.concat([df.isnull().sum(), 100 * df.isnull().mean()], axis=1)\n",
    "    missing.columns=['count', '%']\n",
    "    missing = missing.loc[missing['count'] > 0]\n",
    "    missing.sort_values(by='count', ascending = False)\n",
    "    \n",
    "    return missing"
   ]
  },
  {
   "cell_type": "markdown",
   "id": "26516c23",
   "metadata": {},
   "source": [
    "### Missing data statistics"
   ]
  },
  {
   "cell_type": "code",
   "execution_count": null,
   "id": "6bff8fc0",
   "metadata": {},
   "outputs": [],
   "source": [
    "#Count missing data\n",
    "missing_stats = count_missing(df)\n",
    "display(missing_stats)"
   ]
  },
  {
   "cell_type": "markdown",
   "id": "1a34f26b",
   "metadata": {},
   "source": [
    "### Missing data plot"
   ]
  },
  {
   "cell_type": "code",
   "execution_count": null,
   "id": "fc22bb6b",
   "metadata": {},
   "outputs": [],
   "source": [
    "#Visualize the missing datausing \"missingno\" library\n",
    "msno.matrix(df)\n",
    "plt.show()"
   ]
  },
  {
   "cell_type": "markdown",
   "id": "63d28956",
   "metadata": {},
   "source": [
    "## Treat missing data"
   ]
  },
  {
   "cell_type": "markdown",
   "id": "9307396d",
   "metadata": {},
   "source": [
    "### 1. Set tolerances"
   ]
  },
  {
   "cell_type": "code",
   "execution_count": null,
   "id": "e13762cd",
   "metadata": {},
   "outputs": [],
   "source": [
    "### Tolerance for missing data %\n",
    "\n",
    "print(\"\"\"\n",
    "Drop Columns:\\t missing data (%) > tolerance_drop \n",
    "Drop Rows:\\t tolerance_impute < missing data (%) < tolerance_drop\n",
    "Impute Data:\\t missing data (%) < tolerance_impute\n",
    "\"\"\")\n",
    "\n",
    "tolerance_drop = 10\n",
    "tolerance_impute = 1\n",
    "\n",
    "print('tolerance_drop =', tolerance_drop)\n",
    "print('tolerance_impute =', tolerance_impute)"
   ]
  },
  {
   "cell_type": "markdown",
   "id": "220f3834",
   "metadata": {},
   "source": [
    "### 2. Drop Columns"
   ]
  },
  {
   "cell_type": "markdown",
   "id": "e064002e",
   "metadata": {},
   "source": [
    "#### Columns with NaN to drop"
   ]
  },
  {
   "cell_type": "markdown",
   "id": "d0aad6c7",
   "metadata": {},
   "source": [
    "It is recommended to drop the  other data sources for the following featuers with more than the missing tolerance %"
   ]
  },
  {
   "cell_type": "code",
   "execution_count": null,
   "id": "748c5c61",
   "metadata": {},
   "outputs": [],
   "source": [
    "print('Columns with NaN to drop:')\n",
    "drop_criteria = missing_stats['%'] > tolerance_drop \n",
    "columns_to_drop = missing_stats.loc[drop_criteria]\n",
    "display(columns_to_drop.round(2))"
   ]
  },
  {
   "cell_type": "markdown",
   "id": "4faa8327",
   "metadata": {},
   "source": [
    "#### Drop column and store"
   ]
  },
  {
   "cell_type": "code",
   "execution_count": null,
   "id": "24b07bab",
   "metadata": {},
   "outputs": [],
   "source": [
    "#drop select columns\n",
    "dropped_col = df.drop(columns = columns_to_drop.index, inplace = False)\n",
    "\n",
    "print('Original data:',df.shape)\n",
    "print('Missing droppped:', dropped_col.shape)"
   ]
  },
  {
   "cell_type": "markdown",
   "id": "99fbd661",
   "metadata": {},
   "source": [
    "### 3. Impute missing data"
   ]
  },
  {
   "cell_type": "code",
   "execution_count": null,
   "id": "de909675",
   "metadata": {},
   "outputs": [],
   "source": [
    "print('Columns with NaN to impute:')\n",
    "impute_criteria = missing_stats['%'] < tolerance_impute\n",
    "columns_to_impute = missing_stats.loc[impute_criteria]\n",
    "display(columns_to_impute.round(2))"
   ]
  },
  {
   "cell_type": "markdown",
   "id": "bb4da5e0",
   "metadata": {},
   "source": [
    "#### Plot where data is missiing"
   ]
  },
  {
   "cell_type": "code",
   "execution_count": null,
   "id": "cccc79bd",
   "metadata": {},
   "outputs": [],
   "source": [
    "def plot_timeseries(df, target_feature):\n",
    "    \n",
    "    #Plot the target feature\n",
    "    fig, ax = plt.subplots(figsize = (8,2))\n",
    "    \n",
    "    #line plot for target feature\n",
    "    sns.lineplot(data = df, x = df.index, y = target_feature)\n",
    "\n",
    "    #scatter plot for missing values\n",
    "    df_nan = df.loc[df[target_feature].isnull()]\n",
    "    #use medain value for y\n",
    "    y_val = df[target_feature].median()    \n",
    "    sns.scatterplot(data = df_nan, x =df_nan.index, y = y_val, marker=\"o\", color=\"r\")\n",
    "\n",
    "    # assign locator and formatter for the xaxis ticks.\n",
    "    ax.xaxis.set_major_locator(mdates.AutoDateLocator())\n",
    "    ax.xaxis.set_major_formatter(mdates.DateFormatter('%Y-%m-%d'))\n",
    "\n",
    "    # put the labels at 45deg since they tend to be too long\n",
    "    fig.autofmt_xdate()\n",
    "    \n",
    "    plt.show()"
   ]
  },
  {
   "cell_type": "code",
   "execution_count": null,
   "id": "46197a5c",
   "metadata": {},
   "outputs": [],
   "source": [
    "#plot the data and the missing data locatin 'TO BE IMPUTED'\n",
    "[plot_timeseries(dropped_col, item) for item in columns_to_impute.index]"
   ]
  },
  {
   "cell_type": "code",
   "execution_count": null,
   "id": "1c5b62b3",
   "metadata": {},
   "outputs": [],
   "source": [
    "#Impute using bfill & ffil\n",
    "for item in columns_to_impute.index:\n",
    "    # Ffill imputation\n",
    "    dropped_col[item] = dropped_col[item].fillna(method='ffill')\n",
    "    # Bfill imputation\n",
    "    dropped_col[item] = dropped_col[item].fillna(method='bfill')"
   ]
  },
  {
   "cell_type": "code",
   "execution_count": null,
   "id": "c6211cfb",
   "metadata": {},
   "outputs": [],
   "source": [
    "print('Missing imputed:', dropped_col.shape)"
   ]
  },
  {
   "cell_type": "markdown",
   "id": "1d4b4bb7",
   "metadata": {},
   "source": [
    "### Drop Rows"
   ]
  },
  {
   "cell_type": "code",
   "execution_count": null,
   "id": "ce811f9f",
   "metadata": {},
   "outputs": [],
   "source": [
    "#Count missing data\n",
    "missing_stats = count_missing(dropped_col)"
   ]
  },
  {
   "cell_type": "code",
   "execution_count": null,
   "id": "863a4a01",
   "metadata": {},
   "outputs": [],
   "source": [
    "print('Columns with NaN to drop row:')\n",
    "display(missing_stats.round(2))"
   ]
  },
  {
   "cell_type": "code",
   "execution_count": null,
   "id": "7c0a3be4",
   "metadata": {},
   "outputs": [],
   "source": [
    "dropped_row = dropped_col.dropna(axis = 0, inplace = False)"
   ]
  },
  {
   "cell_type": "code",
   "execution_count": null,
   "id": "bcdd27af",
   "metadata": {},
   "outputs": [],
   "source": [
    "print('Missing droppped:', dropped_row.shape)"
   ]
  },
  {
   "cell_type": "markdown",
   "id": "fb38829d",
   "metadata": {},
   "source": [
    "### Use df with no NaNs"
   ]
  },
  {
   "cell_type": "code",
   "execution_count": null,
   "id": "b5d6707d",
   "metadata": {},
   "outputs": [],
   "source": [
    "df = dropped_row"
   ]
  },
  {
   "cell_type": "markdown",
   "id": "1db9b5e4",
   "metadata": {},
   "source": [
    "## Explore data"
   ]
  },
  {
   "cell_type": "markdown",
   "id": "589cc619",
   "metadata": {},
   "source": [
    "### Check final DataFrame"
   ]
  },
  {
   "cell_type": "code",
   "execution_count": null,
   "id": "f7398436",
   "metadata": {
    "scrolled": false
   },
   "outputs": [],
   "source": [
    "#Display df head and tail\n",
    "display_df(df, 7)"
   ]
  },
  {
   "cell_type": "markdown",
   "id": "3efbea2a",
   "metadata": {},
   "source": [
    "### Traget feature"
   ]
  },
  {
   "cell_type": "code",
   "execution_count": null,
   "id": "7239e647",
   "metadata": {},
   "outputs": [],
   "source": [
    "#Display the target feature\n",
    "plt.figure(figsize = (16,7))\n",
    "df['wti_price'].plot()\n",
    "plt.title('WTI Spot Price')\n",
    "plt.xlabel('Date')\n",
    "plt.show()"
   ]
  },
  {
   "cell_type": "markdown",
   "id": "3ef2ba79",
   "metadata": {},
   "source": [
    "### Summary Statistics"
   ]
  },
  {
   "cell_type": "code",
   "execution_count": null,
   "id": "2584a6b5",
   "metadata": {},
   "outputs": [],
   "source": [
    "df.describe().round(2).T"
   ]
  },
  {
   "cell_type": "markdown",
   "id": "b2f7a558",
   "metadata": {},
   "source": [
    "### Histograms"
   ]
  },
  {
   "cell_type": "code",
   "execution_count": null,
   "id": "3a7f6cbe",
   "metadata": {},
   "outputs": [],
   "source": [
    "#Plot histogram of all  features\n",
    "#Call plt.subplots_adjust() with an argument hspace=0.5 to adjust the spacing\n",
    "#It's important you create legible and easy-to-read plots\n",
    "df.hist(figsize=(15,15))\n",
    "plt.subplots_adjust(hspace=0.5);\n"
   ]
  },
  {
   "cell_type": "markdown",
   "id": "c48c1a93",
   "metadata": {},
   "source": [
    "## Store data"
   ]
  },
  {
   "cell_type": "code",
   "execution_count": null,
   "id": "69caf997",
   "metadata": {},
   "outputs": [],
   "source": [
    "# Change direcotry to the 'data\\raw' folder\n",
    "path = ROOT_DIR + '\\\\data\\\\interim\\\\'\n",
    "\n",
    "# Set a file name\n",
    "file_save = path + 'step2_data_wrangling_wti_price.csv'\n",
    "df.to_csv(file_save)\n",
    "\n",
    "print('Save:\\n', file_save)"
   ]
  },
  {
   "cell_type": "code",
   "execution_count": null,
   "id": "97e1d00b",
   "metadata": {},
   "outputs": [],
   "source": []
  },
  {
   "cell_type": "code",
   "execution_count": null,
   "id": "25043328",
   "metadata": {},
   "outputs": [],
   "source": []
  }
 ],
 "metadata": {
  "kernelspec": {
   "display_name": "Python 3 (ipykernel)",
   "language": "python",
   "name": "python3"
  },
  "language_info": {
   "codemirror_mode": {
    "name": "ipython",
    "version": 3
   },
   "file_extension": ".py",
   "mimetype": "text/x-python",
   "name": "python",
   "nbconvert_exporter": "python",
   "pygments_lexer": "ipython3",
   "version": "3.9.15"
  }
 },
 "nbformat": 4,
 "nbformat_minor": 5
}
