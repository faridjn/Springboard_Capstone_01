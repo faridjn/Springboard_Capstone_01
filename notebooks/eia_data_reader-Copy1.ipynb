{
 "cells": [
  {
   "cell_type": "code",
   "execution_count": 2,
   "id": "41bf62e0",
   "metadata": {},
   "outputs": [],
   "source": [
    "#Import the relevant modules\n",
    "import os\n",
    "from dotenv import load_dotenv\n",
    "\n",
    "import requests\n",
    "import json\n",
    "\n",
    "import pandas as pd\n",
    "import numpy as np\n",
    "import datetime as dt\n",
    "import matplotlib.pyplot as plt\n",
    "import matplotlib.ticker as ticker"
   ]
  },
  {
   "cell_type": "code",
   "execution_count": null,
   "id": "f110d6a5",
   "metadata": {},
   "outputs": [],
   "source": [
    "fptr = open(file_name, \"rb\")  # open file in read binary mode\n",
    "test_list = pickle.load(fptr)  # read binary data from file and store in list\n",
    "print(test_list)  # print the data\n",
    "fptr.close()"
   ]
  },
  {
   "cell_type": "code",
   "execution_count": 8,
   "id": "b27875b3",
   "metadata": {},
   "outputs": [
    {
     "name": "stdout",
     "output_type": "stream",
     "text": [
      "0 :  WTI_Price\n",
      "1 :  Oil_Production_OPEC\n",
      "2 :  Oil_Production_nonOPEC\n",
      "3 :  Oil_Production_World\n",
      "4 :  Henry_Hub_NG_Price\n",
      "5 :  Oil_Production_US\n",
      "6 :  Petrol_Consumption_OECD\n",
      "7 :  Petrol_Consumption_nonOECD\n",
      "8 :  US_CPI\n",
      "9 :  US_PPI\n",
      "10 :  US_PPI_Petroleum\n",
      "11 :  US_PMI\n",
      "12 :  Petroleum_Inventory_OECD\n",
      "13 :  Crude_Oil_Inventory_Total\n",
      "14 :  Crude_Oil_Inventory_SPR\n",
      "15 :  Crude_Oil_Inventory_nonSPR\n",
      "16 :  Refiner_Wholesale_Gasoline_Price \n",
      "17 :  Refiner_Wholesale_Diesel_Price\n",
      "18 :  Brent_Price\n"
     ]
    }
   ],
   "source": [
    "for i in range(len(final_data)):\n",
    "    print(i, ': ', final_data[i].columns[0])"
   ]
  },
  {
   "cell_type": "code",
   "execution_count": null,
   "id": "ea4a253c",
   "metadata": {},
   "outputs": [],
   "source": [
    "# Choose start and end dates\n",
    "startDate = '2000-01-01'\n",
    "endDate = '2022-09-30'"
   ]
  },
  {
   "cell_type": "code",
   "execution_count": null,
   "id": "65fbca56",
   "metadata": {},
   "outputs": [],
   "source": [
    "#print the first and last observation\n",
    "[print(json_data['observations'][i]) for i in [0,-1]]"
   ]
  },
  {
   "cell_type": "code",
   "execution_count": null,
   "id": "46e086df",
   "metadata": {},
   "outputs": [],
   "source": [
    "df = pd.DataFrame.from_dict(json_data['observations'])\n",
    "df = df.drop(columns = ['realtime_start','realtime_end'])\n",
    "print(df.info())"
   ]
  },
  {
   "cell_type": "code",
   "execution_count": null,
   "id": "6746ab44",
   "metadata": {},
   "outputs": [],
   "source": [
    "df = df.loc[df['value'] != '.']"
   ]
  },
  {
   "cell_type": "code",
   "execution_count": null,
   "id": "1a3d3ae6",
   "metadata": {},
   "outputs": [],
   "source": [
    "df = df.astype({\"date\": 'datetime64[ns]', \"value\": float})"
   ]
  },
  {
   "cell_type": "code",
   "execution_count": null,
   "id": "2ea12c83",
   "metadata": {},
   "outputs": [],
   "source": [
    "df_2010 = df.loc[df['date'] >= realtime_start]"
   ]
  },
  {
   "cell_type": "code",
   "execution_count": null,
   "id": "bbf69aa3",
   "metadata": {},
   "outputs": [],
   "source": [
    "print(df_2010.head())\n",
    "print(df_2010.tail())"
   ]
  },
  {
   "cell_type": "code",
   "execution_count": null,
   "id": "7a37741a",
   "metadata": {},
   "outputs": [],
   "source": [
    "print(df_2010.loc[df_2010.value.idxmin()])\n",
    "print(df_2010.loc[df_2010.value.idxmax()])"
   ]
  },
  {
   "cell_type": "code",
   "execution_count": null,
   "id": "c7fa84d4",
   "metadata": {},
   "outputs": [],
   "source": [
    "df_2010.plot(x = 'date', y = 'value')\n",
    "plt.title('Crude Oil WTI (USD/bbl)')\n",
    "plt.ylabel('USD')\n",
    "plt.show()"
   ]
  },
  {
   "cell_type": "code",
   "execution_count": null,
   "id": "a2f0ef13",
   "metadata": {},
   "outputs": [],
   "source": [
    "ROOT_DIR = os.path.normpath(os.getcwd() + os.sep + os.pardir)"
   ]
  },
  {
   "cell_type": "code",
   "execution_count": null,
   "id": "3dc94324",
   "metadata": {},
   "outputs": [],
   "source": [
    "data_dir = ROOT_DIR + '\\\\data\\\\interim\\\\'\n",
    "\n",
    "\n",
    "file_name = 'oil_price_2010_2022.csv'\n",
    "df_2010.to_csv(data_dir+file_name)"
   ]
  }
 ],
 "metadata": {
  "kernelspec": {
   "display_name": "Python 3 (ipykernel)",
   "language": "python",
   "name": "python3"
  },
  "language_info": {
   "codemirror_mode": {
    "name": "ipython",
    "version": 3
   },
   "file_extension": ".py",
   "mimetype": "text/x-python",
   "name": "python",
   "nbconvert_exporter": "python",
   "pygments_lexer": "ipython3",
   "version": "3.9.13"
  }
 },
 "nbformat": 4,
 "nbformat_minor": 5
}
