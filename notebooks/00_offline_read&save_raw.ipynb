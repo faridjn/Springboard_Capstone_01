{
 "cells": [
  {
   "cell_type": "code",
   "execution_count": 3,
   "id": "235ddca7",
   "metadata": {},
   "outputs": [],
   "source": [
    "# import necessary libraries\n",
    "import pandas as pd\n",
    "import os\n",
    "import glob\n",
    "\n",
    "import pickle"
   ]
  },
  {
   "cell_type": "code",
   "execution_count": 5,
   "id": "8b8f3e8f",
   "metadata": {},
   "outputs": [
    {
     "name": "stdout",
     "output_type": "stream",
     "text": [
      "D:\\gitProjects\\springboard_capstone_1\\Springboard_Capstone_01\\data\\raw\n"
     ]
    }
   ],
   "source": [
    "# Change directory one step back and save as the root directory\n",
    "ROOT_DIR = os.path.normpath(os.getcwd() + os.sep + os.pardir)\n",
    "\n",
    "# Change direcotry to the 'data\\raw' folder\n",
    "path = ROOT_DIR + '\\\\data\\\\raw'\n",
    "print(path)"
   ]
  },
  {
   "cell_type": "code",
   "execution_count": 6,
   "id": "25508a7d",
   "metadata": {},
   "outputs": [],
   "source": [
    "def get_file_name(file_name):\n",
    "    name_ext = file_name.split(\"\\\\\")[-1]\n",
    "    name = name_ext.split(\".\")[0]\n",
    "    \n",
    "    return name"
   ]
  },
  {
   "cell_type": "code",
   "execution_count": 7,
   "id": "00d29e3c",
   "metadata": {},
   "outputs": [
    {
     "name": "stdout",
     "output_type": "stream",
     "text": [
      "Sucess: COMEX_Gold\n",
      "Sucess: DJIA\n",
      "Sucess: LME_Copper\n",
      "Sucess: NASDAQ_COMP\n",
      "Sucess: SP500_SPX\n"
     ]
    }
   ],
   "source": [
    "# use glob to get all the csv files in the folder\n",
    "csv_files = glob.glob(os.path.join(path, \"*.csv\"))\n",
    "\n",
    "# Initialize list; this is the final list that will store all the data from the json pull. \n",
    "read_data = []\n",
    "\n",
    "# loop over the list of csv files\n",
    "for f in csv_files:\n",
    "        \n",
    "    # read the csv file    \n",
    "    df = pd.read_csv(f, sep = ',', thousands=',')\n",
    "    \n",
    "    if ' Close' in df.columns:\n",
    "        #rename column name\n",
    "        df.columns = ['Date', 'Open', 'High', 'Low', 'Close']\n",
    "        value = 'Close'\n",
    "        format_date = '%m/%d/%y'\n",
    "        \n",
    "        \n",
    "    if 'Price' in df.columns:\n",
    "        df.columns = ['Date', 'Price', 'Open','High','Low','Vol','Change']\n",
    "        value = 'Price'\n",
    "        format_date = '%m/%d/%Y'\n",
    "    \n",
    "    #select columns\n",
    "    df = df[['Date', value]]\n",
    "\n",
    "    #change data type to date and numeric\n",
    "    df['value'] = pd.to_numeric(df[value])\n",
    "    df['Date'] = pd.to_datetime(df['Date'], format=format_date, errors=\"raise\")\n",
    "    \n",
    "    df = df.drop(columns = [value])\n",
    "    df = df.rename(columns = {'value': get_file_name(f)}, errors=\"raise\")\n",
    "    \n",
    "    #set Date as index\n",
    "    df.set_index('Date', drop=True, inplace=True)\n",
    "    \n",
    "    print('Sucess:', get_file_name(f))\n",
    "    #display(df.head())\n",
    "    \n",
    "    read_data.append(df)\n",
    "    # print the success report\n",
    "    \n"
   ]
  },
  {
   "cell_type": "code",
   "execution_count": 8,
   "id": "c5a4a621",
   "metadata": {},
   "outputs": [
    {
     "name": "stdout",
     "output_type": "stream",
     "text": [
      "0: COMEX_Gold (1*274)\n",
      "1: DJIA (1*5724)\n",
      "2: LME_Copper (1*274)\n",
      "3: NASDAQ_COMP (1*5725)\n",
      "4: SP500_SPX (1*5724)\n"
     ]
    }
   ],
   "source": [
    "for i in range(len(read_data)):\n",
    "    name = read_data[i].columns[0]\n",
    "    size = len(read_data[i])\n",
    "    phrase = str(i) + ': '+ name + ' (1*' + str(size) + ')'\n",
    "    print(phrase)"
   ]
  },
  {
   "cell_type": "code",
   "execution_count": 9,
   "id": "f88d104c",
   "metadata": {},
   "outputs": [],
   "source": [
    "def monthly_average(df):\n",
    "            \n",
    "    df['month'] = pd.DatetimeIndex(df.index).month\n",
    "    df['year'] = pd.DatetimeIndex(df.index).year\n",
    "    \n",
    "    dfg = df.groupby(['year','month'],as_index=False).mean()\n",
    "    dfg['Date'] = pd.to_datetime(dict(year = dfg.year, month = dfg.month, day = 1))\n",
    "    \n",
    "    dfg = dfg.drop(columns = ['month','year'])\n",
    "    \n",
    "    dfg.set_index('Date', drop=True, inplace=True)\n",
    "    \n",
    "    return dfg"
   ]
  },
  {
   "cell_type": "code",
   "execution_count": 10,
   "id": "9738a81d",
   "metadata": {},
   "outputs": [],
   "source": [
    "df = read_data[0]\n",
    "dfg = monthly_average(df)\n",
    "dfg.index = pd.to_datetime(df.index, format = '%Y%m',errors='coerce')\n",
    "\n",
    "for df_temp in read_data[1:]:\n",
    "    dfg_temp = monthly_average(df_temp)\n",
    "    dfg_temp.index = pd.to_datetime(dfg_temp.index, format = '%Y%m%d',errors='coerce')\n",
    "    dfg = pd.merge_ordered(dfg, dfg_temp, on = 'Date')"
   ]
  },
  {
   "cell_type": "code",
   "execution_count": 11,
   "id": "a1d2948c",
   "metadata": {},
   "outputs": [
    {
     "data": {
      "text/html": [
       "<div>\n",
       "<style scoped>\n",
       "    .dataframe tbody tr th:only-of-type {\n",
       "        vertical-align: middle;\n",
       "    }\n",
       "\n",
       "    .dataframe tbody tr th {\n",
       "        vertical-align: top;\n",
       "    }\n",
       "\n",
       "    .dataframe thead th {\n",
       "        text-align: right;\n",
       "    }\n",
       "</style>\n",
       "<table border=\"1\" class=\"dataframe\">\n",
       "  <thead>\n",
       "    <tr style=\"text-align: right;\">\n",
       "      <th></th>\n",
       "      <th>Date</th>\n",
       "      <th>COMEX_Gold</th>\n",
       "      <th>DJIA</th>\n",
       "      <th>LME_Copper</th>\n",
       "      <th>NASDAQ_COMP</th>\n",
       "      <th>SP500_SPX</th>\n",
       "    </tr>\n",
       "  </thead>\n",
       "  <tbody>\n",
       "    <tr>\n",
       "      <th>0</th>\n",
       "      <td>2000-01-01</td>\n",
       "      <td>1671.55</td>\n",
       "      <td>11281.263000</td>\n",
       "      <td>0.8440</td>\n",
       "      <td>4013.494000</td>\n",
       "      <td>1425.585500</td>\n",
       "    </tr>\n",
       "    <tr>\n",
       "      <th>1</th>\n",
       "      <td>2000-02-01</td>\n",
       "      <td>1684.90</td>\n",
       "      <td>10541.929500</td>\n",
       "      <td>0.7870</td>\n",
       "      <td>4410.871000</td>\n",
       "      <td>1388.874000</td>\n",
       "    </tr>\n",
       "    <tr>\n",
       "      <th>2</th>\n",
       "      <td>2000-03-01</td>\n",
       "      <td>1726.20</td>\n",
       "      <td>10483.390435</td>\n",
       "      <td>0.8000</td>\n",
       "      <td>4802.988261</td>\n",
       "      <td>1442.213043</td>\n",
       "    </tr>\n",
       "    <tr>\n",
       "      <th>3</th>\n",
       "      <td>2000-04-01</td>\n",
       "      <td>1778.70</td>\n",
       "      <td>10944.310526</td>\n",
       "      <td>0.7900</td>\n",
       "      <td>3863.637368</td>\n",
       "      <td>1461.355263</td>\n",
       "    </tr>\n",
       "    <tr>\n",
       "      <th>4</th>\n",
       "      <td>2000-05-01</td>\n",
       "      <td>1807.30</td>\n",
       "      <td>10580.267727</td>\n",
       "      <td>0.8110</td>\n",
       "      <td>3528.416818</td>\n",
       "      <td>1418.479545</td>\n",
       "    </tr>\n",
       "    <tr>\n",
       "      <th>...</th>\n",
       "      <td>...</td>\n",
       "      <td>...</td>\n",
       "      <td>...</td>\n",
       "      <td>...</td>\n",
       "      <td>...</td>\n",
       "      <td>...</td>\n",
       "    </tr>\n",
       "    <tr>\n",
       "      <th>269</th>\n",
       "      <td>2022-06-01</td>\n",
       "      <td>274.80</td>\n",
       "      <td>31446.712857</td>\n",
       "      <td>3.7145</td>\n",
       "      <td>11418.919048</td>\n",
       "      <td>3898.946667</td>\n",
       "    </tr>\n",
       "    <tr>\n",
       "      <th>270</th>\n",
       "      <td>2022-07-01</td>\n",
       "      <td>274.70</td>\n",
       "      <td>31535.323500</td>\n",
       "      <td>3.4295</td>\n",
       "      <td>11622.631500</td>\n",
       "      <td>3911.729500</td>\n",
       "    </tr>\n",
       "    <tr>\n",
       "      <th>271</th>\n",
       "      <td>2022-08-01</td>\n",
       "      <td>281.40</td>\n",
       "      <td>33009.564783</td>\n",
       "      <td>3.5185</td>\n",
       "      <td>12570.260435</td>\n",
       "      <td>4158.563043</td>\n",
       "    </tr>\n",
       "    <tr>\n",
       "      <th>272</th>\n",
       "      <td>2022-09-01</td>\n",
       "      <td>294.20</td>\n",
       "      <td>30649.559524</td>\n",
       "      <td>3.4070</td>\n",
       "      <td>11413.214091</td>\n",
       "      <td>3850.520476</td>\n",
       "    </tr>\n",
       "    <tr>\n",
       "      <th>273</th>\n",
       "      <td>2022-10-01</td>\n",
       "      <td>286.20</td>\n",
       "      <td>NaN</td>\n",
       "      <td>3.3725</td>\n",
       "      <td>NaN</td>\n",
       "      <td>NaN</td>\n",
       "    </tr>\n",
       "  </tbody>\n",
       "</table>\n",
       "<p>274 rows × 6 columns</p>\n",
       "</div>"
      ],
      "text/plain": [
       "          Date  COMEX_Gold          DJIA  LME_Copper   NASDAQ_COMP  \\\n",
       "0   2000-01-01     1671.55  11281.263000      0.8440   4013.494000   \n",
       "1   2000-02-01     1684.90  10541.929500      0.7870   4410.871000   \n",
       "2   2000-03-01     1726.20  10483.390435      0.8000   4802.988261   \n",
       "3   2000-04-01     1778.70  10944.310526      0.7900   3863.637368   \n",
       "4   2000-05-01     1807.30  10580.267727      0.8110   3528.416818   \n",
       "..         ...         ...           ...         ...           ...   \n",
       "269 2022-06-01      274.80  31446.712857      3.7145  11418.919048   \n",
       "270 2022-07-01      274.70  31535.323500      3.4295  11622.631500   \n",
       "271 2022-08-01      281.40  33009.564783      3.5185  12570.260435   \n",
       "272 2022-09-01      294.20  30649.559524      3.4070  11413.214091   \n",
       "273 2022-10-01      286.20           NaN      3.3725           NaN   \n",
       "\n",
       "       SP500_SPX  \n",
       "0    1425.585500  \n",
       "1    1388.874000  \n",
       "2    1442.213043  \n",
       "3    1461.355263  \n",
       "4    1418.479545  \n",
       "..           ...  \n",
       "269  3898.946667  \n",
       "270  3911.729500  \n",
       "271  4158.563043  \n",
       "272  3850.520476  \n",
       "273          NaN  \n",
       "\n",
       "[274 rows x 6 columns]"
      ]
     },
     "metadata": {},
     "output_type": "display_data"
    }
   ],
   "source": [
    "display(dfg)"
   ]
  },
  {
   "cell_type": "code",
   "execution_count": 15,
   "id": "a4284d21",
   "metadata": {},
   "outputs": [
    {
     "name": "stdout",
     "output_type": "stream",
     "text": [
      "Save:\n",
      " D:\\gitProjects\\springboard_capstone_1\\Springboard_Capstone_01\\data\\interim\\offline_data_raw.csv\n"
     ]
    }
   ],
   "source": [
    "# Change direcotry to the 'data\\raw' folder\n",
    "save_dir = ROOT_DIR + '\\\\data\\\\interim\\\\'\n",
    "\n",
    "# Set a file name\n",
    "file_save = save_dir + 'offline_data_raw.csv'\n",
    "dfg.to_csv(file_save)\n",
    "\n",
    "print('Save:\\n', file_save)"
   ]
  },
  {
   "cell_type": "code",
   "execution_count": null,
   "id": "daa828e4",
   "metadata": {},
   "outputs": [],
   "source": []
  }
 ],
 "metadata": {
  "kernelspec": {
   "display_name": "Python 3 (ipykernel)",
   "language": "python",
   "name": "python3"
  },
  "language_info": {
   "codemirror_mode": {
    "name": "ipython",
    "version": 3
   },
   "file_extension": ".py",
   "mimetype": "text/x-python",
   "name": "python",
   "nbconvert_exporter": "python",
   "pygments_lexer": "ipython3",
   "version": "3.9.13"
  }
 },
 "nbformat": 4,
 "nbformat_minor": 5
}
