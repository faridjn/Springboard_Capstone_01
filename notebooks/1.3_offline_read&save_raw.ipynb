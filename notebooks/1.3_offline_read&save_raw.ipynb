{
 "cells": [
  {
   "cell_type": "markdown",
   "id": "82ca45da",
   "metadata": {},
   "source": [
    "# Read Offline from CSV"
   ]
  },
  {
   "cell_type": "markdown",
   "id": "aaedf67c",
   "metadata": {},
   "source": [
    "## Overview\n",
    "Data manually downloaded from\n",
    "\n",
    " - **WSJ.com**\n",
    "  \n",
    " - **Investing.com**\n",
    "\n",
    "  \n",
    "### Offline Data\n",
    "\n",
    "| No | Symbol | Index Name | Source | URL Address |\n",
    "| :--- | :----- | :----- | :---- | :----- |\n",
    "| 1 | COMEX_Gold | Gold: Future closing price | Investing | https://www.investing.com/commodities/gold-historical-data |\n",
    "| 2 | DXY | US Dollar Index  | Investing | https://www.investing.com/indices/usdollar-historical-data |\n",
    "| 3 | LME_Copper | Copper: Future closing price | Investing | https://www.investing.com/commodities/copper-historical-data |\n",
    "| 4 | COMP | NASDAQ index | WSJ | https://www.wsj.com/market-data/quotes/index/COMP/historical-prices |\n",
    "| 5 | DJIA | Dow Jones Industrial Index | WSJ | https://www.wsj.com/market-data/quotes/index/DJIA/historical-prices |\n",
    "| 6 | SPX | S&P 500 index | WSJ | https://www.wsj.com/market-data/quotes/index/SPX/historical-prices |\n",
    "\n",
    "\n",
    "---\n",
    "### Data fields\n",
    "\n",
    "WSJ: `['Date', 'Open', 'High', 'Low', 'Close']`\n",
    "\n",
    "Investing:`['Date', 'Price', 'Open','High','Low','Vol','Change']`"
   ]
  },
  {
   "cell_type": "markdown",
   "id": "55020b25",
   "metadata": {},
   "source": [
    "## Import Libraries"
   ]
  },
  {
   "cell_type": "code",
   "execution_count": 1,
   "id": "235ddca7",
   "metadata": {},
   "outputs": [],
   "source": [
    "# import necessary libraries\n",
    "import pandas as pd\n",
    "import os\n",
    "import glob\n",
    "\n",
    "import pickle"
   ]
  },
  {
   "cell_type": "markdown",
   "id": "580de8af",
   "metadata": {},
   "source": [
    "## Custom functions"
   ]
  },
  {
   "cell_type": "code",
   "execution_count": 2,
   "id": "f88d104c",
   "metadata": {},
   "outputs": [],
   "source": [
    "def monthly_average(df):\n",
    "    '''\n",
    "    Get a dataframe with daily records \n",
    "    and return a new df with monthly average\n",
    "    '''\n",
    "    \n",
    "    df['month'] = pd.DatetimeIndex(df.index).month\n",
    "    df['year'] = pd.DatetimeIndex(df.index).year\n",
    "    \n",
    "    dfg = df.groupby(['year','month'], as_index=False).mean()\n",
    "    dfg['Date'] = pd.to_datetime(dict(year = dfg.year, month = dfg.month, day = 1))\n",
    "    \n",
    "    dfg = dfg.drop(columns = ['month','year'])\n",
    "    \n",
    "    dfg.set_index('Date', drop=True, inplace=True)\n",
    "    \n",
    "    return dfg"
   ]
  },
  {
   "cell_type": "markdown",
   "id": "04dc7f16",
   "metadata": {},
   "source": [
    "## Set Directories"
   ]
  },
  {
   "cell_type": "code",
   "execution_count": 3,
   "id": "8b8f3e8f",
   "metadata": {},
   "outputs": [
    {
     "name": "stdout",
     "output_type": "stream",
     "text": [
      "D:\\gitProjects\\springboard_capstone_1\\Springboard_Capstone_01\\data\\raw\\\n"
     ]
    }
   ],
   "source": [
    "# Change directory one step back and save as the root directory\n",
    "ROOT_DIR = os.path.normpath(os.getcwd() + os.sep + os.pardir)\n",
    "\n",
    "# Change direcotry to the 'data\\raw' folder\n",
    "path = ROOT_DIR + '\\\\data\\\\raw\\\\'\n",
    "print(path)"
   ]
  },
  {
   "cell_type": "code",
   "execution_count": 4,
   "id": "ea8da272",
   "metadata": {},
   "outputs": [
    {
     "data": {
      "text/plain": [
       "['D:\\\\gitProjects\\\\springboard_capstone_1\\\\Springboard_Capstone_01\\\\data\\\\raw\\\\comp.csv',\n",
       " 'D:\\\\gitProjects\\\\springboard_capstone_1\\\\Springboard_Capstone_01\\\\data\\\\raw\\\\copper_futures.csv',\n",
       " 'D:\\\\gitProjects\\\\springboard_capstone_1\\\\Springboard_Capstone_01\\\\data\\\\raw\\\\djia.csv',\n",
       " 'D:\\\\gitProjects\\\\springboard_capstone_1\\\\Springboard_Capstone_01\\\\data\\\\raw\\\\dxy.csv',\n",
       " 'D:\\\\gitProjects\\\\springboard_capstone_1\\\\Springboard_Capstone_01\\\\data\\\\raw\\\\gold_futures.csv',\n",
       " 'D:\\\\gitProjects\\\\springboard_capstone_1\\\\Springboard_Capstone_01\\\\data\\\\raw\\\\spx.csv']"
      ]
     },
     "metadata": {},
     "output_type": "display_data"
    }
   ],
   "source": [
    "# use glob to get all the csv files in the folder\n",
    "csv_files = glob.glob(os.path.join(path, \"*.csv\"))\n",
    "#dispaly csv file list\n",
    "display(csv_files)"
   ]
  },
  {
   "cell_type": "markdown",
   "id": "1adccb03",
   "metadata": {},
   "source": [
    "## Load all CSV files"
   ]
  },
  {
   "cell_type": "code",
   "execution_count": 5,
   "id": "25508a7d",
   "metadata": {},
   "outputs": [],
   "source": [
    "def get_file_name(file_name):\n",
    "    '''\n",
    "    Get full file address and return the name\n",
    "    '''\n",
    "    name_ext = file_name.split(\"\\\\\")[-1]\n",
    "    name = name_ext.split(\".\")[0]\n",
    "    \n",
    "    return name"
   ]
  },
  {
   "cell_type": "code",
   "execution_count": 6,
   "id": "00d29e3c",
   "metadata": {},
   "outputs": [
    {
     "name": "stdout",
     "output_type": "stream",
     "text": [
      "Sucess: comp\n"
     ]
    },
    {
     "data": {
      "text/html": [
       "<div>\n",
       "<style scoped>\n",
       "    .dataframe tbody tr th:only-of-type {\n",
       "        vertical-align: middle;\n",
       "    }\n",
       "\n",
       "    .dataframe tbody tr th {\n",
       "        vertical-align: top;\n",
       "    }\n",
       "\n",
       "    .dataframe thead th {\n",
       "        text-align: right;\n",
       "    }\n",
       "</style>\n",
       "<table border=\"1\" class=\"dataframe\">\n",
       "  <thead>\n",
       "    <tr style=\"text-align: right;\">\n",
       "      <th></th>\n",
       "      <th>comp</th>\n",
       "    </tr>\n",
       "    <tr>\n",
       "      <th>Date</th>\n",
       "      <th></th>\n",
       "    </tr>\n",
       "  </thead>\n",
       "  <tbody>\n",
       "    <tr>\n",
       "      <th>2022-11-03</th>\n",
       "      <td>10342.94</td>\n",
       "    </tr>\n",
       "    <tr>\n",
       "      <th>2022-11-02</th>\n",
       "      <td>10524.80</td>\n",
       "    </tr>\n",
       "    <tr>\n",
       "      <th>2022-11-01</th>\n",
       "      <td>10890.85</td>\n",
       "    </tr>\n",
       "    <tr>\n",
       "      <th>2022-10-31</th>\n",
       "      <td>10988.15</td>\n",
       "    </tr>\n",
       "    <tr>\n",
       "      <th>2022-10-28</th>\n",
       "      <td>11102.45</td>\n",
       "    </tr>\n",
       "  </tbody>\n",
       "</table>\n",
       "</div>"
      ],
      "text/plain": [
       "                comp\n",
       "Date                \n",
       "2022-11-03  10342.94\n",
       "2022-11-02  10524.80\n",
       "2022-11-01  10890.85\n",
       "2022-10-31  10988.15\n",
       "2022-10-28  11102.45"
      ]
     },
     "metadata": {},
     "output_type": "display_data"
    },
    {
     "name": "stdout",
     "output_type": "stream",
     "text": [
      "Sucess: copper_futures\n"
     ]
    },
    {
     "data": {
      "text/html": [
       "<div>\n",
       "<style scoped>\n",
       "    .dataframe tbody tr th:only-of-type {\n",
       "        vertical-align: middle;\n",
       "    }\n",
       "\n",
       "    .dataframe tbody tr th {\n",
       "        vertical-align: top;\n",
       "    }\n",
       "\n",
       "    .dataframe thead th {\n",
       "        text-align: right;\n",
       "    }\n",
       "</style>\n",
       "<table border=\"1\" class=\"dataframe\">\n",
       "  <thead>\n",
       "    <tr style=\"text-align: right;\">\n",
       "      <th></th>\n",
       "      <th>copper_futures</th>\n",
       "    </tr>\n",
       "    <tr>\n",
       "      <th>Date</th>\n",
       "      <th></th>\n",
       "    </tr>\n",
       "  </thead>\n",
       "  <tbody>\n",
       "    <tr>\n",
       "      <th>2022-11-01</th>\n",
       "      <td>3.4722</td>\n",
       "    </tr>\n",
       "    <tr>\n",
       "      <th>2022-10-01</th>\n",
       "      <td>3.3750</td>\n",
       "    </tr>\n",
       "    <tr>\n",
       "      <th>2022-09-01</th>\n",
       "      <td>3.4125</td>\n",
       "    </tr>\n",
       "    <tr>\n",
       "      <th>2022-08-01</th>\n",
       "      <td>3.5190</td>\n",
       "    </tr>\n",
       "    <tr>\n",
       "      <th>2022-07-01</th>\n",
       "      <td>3.5750</td>\n",
       "    </tr>\n",
       "  </tbody>\n",
       "</table>\n",
       "</div>"
      ],
      "text/plain": [
       "            copper_futures\n",
       "Date                      \n",
       "2022-11-01          3.4722\n",
       "2022-10-01          3.3750\n",
       "2022-09-01          3.4125\n",
       "2022-08-01          3.5190\n",
       "2022-07-01          3.5750"
      ]
     },
     "metadata": {},
     "output_type": "display_data"
    },
    {
     "name": "stdout",
     "output_type": "stream",
     "text": [
      "Sucess: djia\n"
     ]
    },
    {
     "data": {
      "text/html": [
       "<div>\n",
       "<style scoped>\n",
       "    .dataframe tbody tr th:only-of-type {\n",
       "        vertical-align: middle;\n",
       "    }\n",
       "\n",
       "    .dataframe tbody tr th {\n",
       "        vertical-align: top;\n",
       "    }\n",
       "\n",
       "    .dataframe thead th {\n",
       "        text-align: right;\n",
       "    }\n",
       "</style>\n",
       "<table border=\"1\" class=\"dataframe\">\n",
       "  <thead>\n",
       "    <tr style=\"text-align: right;\">\n",
       "      <th></th>\n",
       "      <th>djia</th>\n",
       "    </tr>\n",
       "    <tr>\n",
       "      <th>Date</th>\n",
       "      <th></th>\n",
       "    </tr>\n",
       "  </thead>\n",
       "  <tbody>\n",
       "    <tr>\n",
       "      <th>2022-11-03</th>\n",
       "      <td>32001.25</td>\n",
       "    </tr>\n",
       "    <tr>\n",
       "      <th>2022-11-02</th>\n",
       "      <td>32147.76</td>\n",
       "    </tr>\n",
       "    <tr>\n",
       "      <th>2022-11-01</th>\n",
       "      <td>32653.20</td>\n",
       "    </tr>\n",
       "    <tr>\n",
       "      <th>2022-10-31</th>\n",
       "      <td>32732.95</td>\n",
       "    </tr>\n",
       "    <tr>\n",
       "      <th>2022-10-28</th>\n",
       "      <td>32861.80</td>\n",
       "    </tr>\n",
       "  </tbody>\n",
       "</table>\n",
       "</div>"
      ],
      "text/plain": [
       "                djia\n",
       "Date                \n",
       "2022-11-03  32001.25\n",
       "2022-11-02  32147.76\n",
       "2022-11-01  32653.20\n",
       "2022-10-31  32732.95\n",
       "2022-10-28  32861.80"
      ]
     },
     "metadata": {},
     "output_type": "display_data"
    },
    {
     "name": "stdout",
     "output_type": "stream",
     "text": [
      "Sucess: dxy\n"
     ]
    },
    {
     "data": {
      "text/html": [
       "<div>\n",
       "<style scoped>\n",
       "    .dataframe tbody tr th:only-of-type {\n",
       "        vertical-align: middle;\n",
       "    }\n",
       "\n",
       "    .dataframe tbody tr th {\n",
       "        vertical-align: top;\n",
       "    }\n",
       "\n",
       "    .dataframe thead th {\n",
       "        text-align: right;\n",
       "    }\n",
       "</style>\n",
       "<table border=\"1\" class=\"dataframe\">\n",
       "  <thead>\n",
       "    <tr style=\"text-align: right;\">\n",
       "      <th></th>\n",
       "      <th>dxy</th>\n",
       "    </tr>\n",
       "    <tr>\n",
       "      <th>Date</th>\n",
       "      <th></th>\n",
       "    </tr>\n",
       "  </thead>\n",
       "  <tbody>\n",
       "    <tr>\n",
       "      <th>2022-11-01</th>\n",
       "      <td>112.59</td>\n",
       "    </tr>\n",
       "    <tr>\n",
       "      <th>2022-10-01</th>\n",
       "      <td>111.54</td>\n",
       "    </tr>\n",
       "    <tr>\n",
       "      <th>2022-09-01</th>\n",
       "      <td>112.12</td>\n",
       "    </tr>\n",
       "    <tr>\n",
       "      <th>2022-08-01</th>\n",
       "      <td>108.85</td>\n",
       "    </tr>\n",
       "    <tr>\n",
       "      <th>2022-07-01</th>\n",
       "      <td>106.00</td>\n",
       "    </tr>\n",
       "  </tbody>\n",
       "</table>\n",
       "</div>"
      ],
      "text/plain": [
       "               dxy\n",
       "Date              \n",
       "2022-11-01  112.59\n",
       "2022-10-01  111.54\n",
       "2022-09-01  112.12\n",
       "2022-08-01  108.85\n",
       "2022-07-01  106.00"
      ]
     },
     "metadata": {},
     "output_type": "display_data"
    },
    {
     "name": "stdout",
     "output_type": "stream",
     "text": [
      "Sucess: gold_futures\n"
     ]
    },
    {
     "data": {
      "text/html": [
       "<div>\n",
       "<style scoped>\n",
       "    .dataframe tbody tr th:only-of-type {\n",
       "        vertical-align: middle;\n",
       "    }\n",
       "\n",
       "    .dataframe tbody tr th {\n",
       "        vertical-align: top;\n",
       "    }\n",
       "\n",
       "    .dataframe thead th {\n",
       "        text-align: right;\n",
       "    }\n",
       "</style>\n",
       "<table border=\"1\" class=\"dataframe\">\n",
       "  <thead>\n",
       "    <tr style=\"text-align: right;\">\n",
       "      <th></th>\n",
       "      <th>gold_futures</th>\n",
       "    </tr>\n",
       "    <tr>\n",
       "      <th>Date</th>\n",
       "      <th></th>\n",
       "    </tr>\n",
       "  </thead>\n",
       "  <tbody>\n",
       "    <tr>\n",
       "      <th>2022-11-01</th>\n",
       "      <td>1642.65</td>\n",
       "    </tr>\n",
       "    <tr>\n",
       "      <th>2022-10-01</th>\n",
       "      <td>1640.70</td>\n",
       "    </tr>\n",
       "    <tr>\n",
       "      <th>2022-09-01</th>\n",
       "      <td>1672.00</td>\n",
       "    </tr>\n",
       "    <tr>\n",
       "      <th>2022-08-01</th>\n",
       "      <td>1721.40</td>\n",
       "    </tr>\n",
       "    <tr>\n",
       "      <th>2022-07-01</th>\n",
       "      <td>1771.50</td>\n",
       "    </tr>\n",
       "  </tbody>\n",
       "</table>\n",
       "</div>"
      ],
      "text/plain": [
       "            gold_futures\n",
       "Date                    \n",
       "2022-11-01       1642.65\n",
       "2022-10-01       1640.70\n",
       "2022-09-01       1672.00\n",
       "2022-08-01       1721.40\n",
       "2022-07-01       1771.50"
      ]
     },
     "metadata": {},
     "output_type": "display_data"
    },
    {
     "name": "stdout",
     "output_type": "stream",
     "text": [
      "Sucess: spx\n"
     ]
    },
    {
     "data": {
      "text/html": [
       "<div>\n",
       "<style scoped>\n",
       "    .dataframe tbody tr th:only-of-type {\n",
       "        vertical-align: middle;\n",
       "    }\n",
       "\n",
       "    .dataframe tbody tr th {\n",
       "        vertical-align: top;\n",
       "    }\n",
       "\n",
       "    .dataframe thead th {\n",
       "        text-align: right;\n",
       "    }\n",
       "</style>\n",
       "<table border=\"1\" class=\"dataframe\">\n",
       "  <thead>\n",
       "    <tr style=\"text-align: right;\">\n",
       "      <th></th>\n",
       "      <th>spx</th>\n",
       "    </tr>\n",
       "    <tr>\n",
       "      <th>Date</th>\n",
       "      <th></th>\n",
       "    </tr>\n",
       "  </thead>\n",
       "  <tbody>\n",
       "    <tr>\n",
       "      <th>2022-11-03</th>\n",
       "      <td>3719.89</td>\n",
       "    </tr>\n",
       "    <tr>\n",
       "      <th>2022-11-02</th>\n",
       "      <td>3759.69</td>\n",
       "    </tr>\n",
       "    <tr>\n",
       "      <th>2022-11-01</th>\n",
       "      <td>3856.10</td>\n",
       "    </tr>\n",
       "    <tr>\n",
       "      <th>2022-10-31</th>\n",
       "      <td>3871.98</td>\n",
       "    </tr>\n",
       "    <tr>\n",
       "      <th>2022-10-28</th>\n",
       "      <td>3901.06</td>\n",
       "    </tr>\n",
       "  </tbody>\n",
       "</table>\n",
       "</div>"
      ],
      "text/plain": [
       "                spx\n",
       "Date               \n",
       "2022-11-03  3719.89\n",
       "2022-11-02  3759.69\n",
       "2022-11-01  3856.10\n",
       "2022-10-31  3871.98\n",
       "2022-10-28  3901.06"
      ]
     },
     "metadata": {},
     "output_type": "display_data"
    }
   ],
   "source": [
    "# Initialize list; this is the final list that will store all the data from the json pull. \n",
    "read_data = []\n",
    "\n",
    "# loop over the list of csv files\n",
    "for f in csv_files:\n",
    "        \n",
    "    # read the csv file    \n",
    "    df = pd.read_csv(f, sep = ',', thousands=',')\n",
    "    \n",
    "    if ' Close' in df.columns:\n",
    "        #rename column name\n",
    "        df.columns = ['Date', 'Open', 'High', 'Low', 'Close']\n",
    "        value = 'Close'\n",
    "        format_date = '%m/%d/%Y'\n",
    "        \n",
    "        \n",
    "    if 'Price' in df.columns:\n",
    "        df.columns = ['Date', 'Price', 'Open','High','Low','Vol','Change']\n",
    "        value = 'Price'\n",
    "        format_date = '%m/%d/%Y'\n",
    "    \n",
    "    #select columns\n",
    "    df = df[['Date', value]]\n",
    "\n",
    "    #change data type to date and numeric\n",
    "    df['value'] = pd.to_numeric(df[value])\n",
    "    df['Date'] = pd.to_datetime(df['Date'], format=format_date, errors=\"raise\")\n",
    "    \n",
    "    df = df.drop(columns = [value])\n",
    "    df = df.rename(columns = {'value': get_file_name(f)}, errors=\"raise\")\n",
    "    \n",
    "    #set Date as index\n",
    "    df.set_index('Date', drop=True, inplace=True)\n",
    "    \n",
    "    print('Sucess:', get_file_name(f))\n",
    "    display(df.head())\n",
    "    \n",
    "    read_data.append(df)\n",
    "    # print the success report\n",
    "    \n"
   ]
  },
  {
   "cell_type": "markdown",
   "id": "7397056c",
   "metadata": {},
   "source": [
    "## Data"
   ]
  },
  {
   "cell_type": "markdown",
   "id": "6d0461be",
   "metadata": {},
   "source": [
    "### Print the features and sizes"
   ]
  },
  {
   "cell_type": "code",
   "execution_count": 7,
   "id": "c5a4a621",
   "metadata": {},
   "outputs": [
    {
     "name": "stdout",
     "output_type": "stream",
     "text": [
      "0: comp (1*5749)\n",
      "1: copper_futures (1*275)\n",
      "2: djia (1*5748)\n",
      "3: dxy (1*275)\n",
      "4: gold_futures (1*275)\n",
      "5: spx (1*5748)\n"
     ]
    }
   ],
   "source": [
    "for i in range(len(read_data)):\n",
    "    name = read_data[i].columns[0]\n",
    "    size = len(read_data[i])\n",
    "    phrase = str(i) + ': '+ name + ' (1*' + str(size) + ')'\n",
    "    print(phrase)"
   ]
  },
  {
   "cell_type": "markdown",
   "id": "b58d2a01",
   "metadata": {},
   "source": [
    "### Merge_order all data frames"
   ]
  },
  {
   "cell_type": "code",
   "execution_count": 8,
   "id": "9738a81d",
   "metadata": {},
   "outputs": [],
   "source": [
    "df = read_data[0]\n",
    "dfg = monthly_average(df)\n",
    "dfg.index = pd.to_datetime(dfg.index, format = '%Y%m%d',errors='coerce')\n",
    "\n",
    "for df_temp in read_data[1:]:\n",
    "    dfg_temp = monthly_average(df_temp)\n",
    "    dfg_temp.index = pd.to_datetime(dfg_temp.index, format = '%Y%m%d',errors='coerce')\n",
    "    dfg = pd.merge_ordered(dfg, dfg_temp, on = 'Date')"
   ]
  },
  {
   "cell_type": "markdown",
   "id": "0a9e6dd8",
   "metadata": {},
   "source": [
    "## Check the final dataframe"
   ]
  },
  {
   "cell_type": "code",
   "execution_count": 9,
   "id": "a1d2948c",
   "metadata": {},
   "outputs": [
    {
     "data": {
      "text/html": [
       "<div>\n",
       "<style scoped>\n",
       "    .dataframe tbody tr th:only-of-type {\n",
       "        vertical-align: middle;\n",
       "    }\n",
       "\n",
       "    .dataframe tbody tr th {\n",
       "        vertical-align: top;\n",
       "    }\n",
       "\n",
       "    .dataframe thead th {\n",
       "        text-align: right;\n",
       "    }\n",
       "</style>\n",
       "<table border=\"1\" class=\"dataframe\">\n",
       "  <thead>\n",
       "    <tr style=\"text-align: right;\">\n",
       "      <th></th>\n",
       "      <th>Date</th>\n",
       "      <th>comp</th>\n",
       "      <th>copper_futures</th>\n",
       "      <th>djia</th>\n",
       "      <th>dxy</th>\n",
       "      <th>gold_futures</th>\n",
       "      <th>spx</th>\n",
       "    </tr>\n",
       "  </thead>\n",
       "  <tbody>\n",
       "    <tr>\n",
       "      <th>0</th>\n",
       "      <td>2000-01-01</td>\n",
       "      <td>4013.49</td>\n",
       "      <td>0.85</td>\n",
       "      <td>11281.26</td>\n",
       "      <td>105.13</td>\n",
       "      <td>286.20</td>\n",
       "      <td>1425.59</td>\n",
       "    </tr>\n",
       "    <tr>\n",
       "      <th>1</th>\n",
       "      <td>2000-02-01</td>\n",
       "      <td>4410.87</td>\n",
       "      <td>0.80</td>\n",
       "      <td>10541.93</td>\n",
       "      <td>105.92</td>\n",
       "      <td>295.40</td>\n",
       "      <td>1388.87</td>\n",
       "    </tr>\n",
       "    <tr>\n",
       "      <th>2</th>\n",
       "      <td>2000-03-01</td>\n",
       "      <td>4802.99</td>\n",
       "      <td>0.81</td>\n",
       "      <td>10483.39</td>\n",
       "      <td>105.44</td>\n",
       "      <td>281.40</td>\n",
       "      <td>1442.21</td>\n",
       "    </tr>\n",
       "    <tr>\n",
       "      <th>3</th>\n",
       "      <td>2000-04-01</td>\n",
       "      <td>3863.64</td>\n",
       "      <td>0.80</td>\n",
       "      <td>10944.31</td>\n",
       "      <td>110.14</td>\n",
       "      <td>276.00</td>\n",
       "      <td>1461.36</td>\n",
       "    </tr>\n",
       "    <tr>\n",
       "      <th>4</th>\n",
       "      <td>2000-05-01</td>\n",
       "      <td>3528.42</td>\n",
       "      <td>0.82</td>\n",
       "      <td>10580.27</td>\n",
       "      <td>108.74</td>\n",
       "      <td>274.80</td>\n",
       "      <td>1418.48</td>\n",
       "    </tr>\n",
       "    <tr>\n",
       "      <th>...</th>\n",
       "      <td>...</td>\n",
       "      <td>...</td>\n",
       "      <td>...</td>\n",
       "      <td>...</td>\n",
       "      <td>...</td>\n",
       "      <td>...</td>\n",
       "      <td>...</td>\n",
       "    </tr>\n",
       "    <tr>\n",
       "      <th>270</th>\n",
       "      <td>2022-07-01</td>\n",
       "      <td>11622.63</td>\n",
       "      <td>3.58</td>\n",
       "      <td>31535.32</td>\n",
       "      <td>106.00</td>\n",
       "      <td>1771.50</td>\n",
       "      <td>3911.73</td>\n",
       "    </tr>\n",
       "    <tr>\n",
       "      <th>271</th>\n",
       "      <td>2022-08-01</td>\n",
       "      <td>12570.26</td>\n",
       "      <td>3.52</td>\n",
       "      <td>33009.56</td>\n",
       "      <td>108.85</td>\n",
       "      <td>1721.40</td>\n",
       "      <td>4158.56</td>\n",
       "    </tr>\n",
       "    <tr>\n",
       "      <th>272</th>\n",
       "      <td>2022-09-01</td>\n",
       "      <td>11413.21</td>\n",
       "      <td>3.41</td>\n",
       "      <td>30649.56</td>\n",
       "      <td>112.12</td>\n",
       "      <td>1672.00</td>\n",
       "      <td>3850.52</td>\n",
       "    </tr>\n",
       "    <tr>\n",
       "      <th>273</th>\n",
       "      <td>2022-10-01</td>\n",
       "      <td>10801.49</td>\n",
       "      <td>3.38</td>\n",
       "      <td>30570.68</td>\n",
       "      <td>111.54</td>\n",
       "      <td>1640.70</td>\n",
       "      <td>3726.05</td>\n",
       "    </tr>\n",
       "    <tr>\n",
       "      <th>274</th>\n",
       "      <td>2022-11-01</td>\n",
       "      <td>10586.20</td>\n",
       "      <td>3.47</td>\n",
       "      <td>32267.40</td>\n",
       "      <td>112.59</td>\n",
       "      <td>1642.65</td>\n",
       "      <td>3778.56</td>\n",
       "    </tr>\n",
       "  </tbody>\n",
       "</table>\n",
       "<p>275 rows × 7 columns</p>\n",
       "</div>"
      ],
      "text/plain": [
       "          Date      comp  copper_futures      djia     dxy  gold_futures  \\\n",
       "0   2000-01-01   4013.49            0.85  11281.26  105.13        286.20   \n",
       "1   2000-02-01   4410.87            0.80  10541.93  105.92        295.40   \n",
       "2   2000-03-01   4802.99            0.81  10483.39  105.44        281.40   \n",
       "3   2000-04-01   3863.64            0.80  10944.31  110.14        276.00   \n",
       "4   2000-05-01   3528.42            0.82  10580.27  108.74        274.80   \n",
       "..         ...       ...             ...       ...     ...           ...   \n",
       "270 2022-07-01  11622.63            3.58  31535.32  106.00       1771.50   \n",
       "271 2022-08-01  12570.26            3.52  33009.56  108.85       1721.40   \n",
       "272 2022-09-01  11413.21            3.41  30649.56  112.12       1672.00   \n",
       "273 2022-10-01  10801.49            3.38  30570.68  111.54       1640.70   \n",
       "274 2022-11-01  10586.20            3.47  32267.40  112.59       1642.65   \n",
       "\n",
       "         spx  \n",
       "0    1425.59  \n",
       "1    1388.87  \n",
       "2    1442.21  \n",
       "3    1461.36  \n",
       "4    1418.48  \n",
       "..       ...  \n",
       "270  3911.73  \n",
       "271  4158.56  \n",
       "272  3850.52  \n",
       "273  3726.05  \n",
       "274  3778.56  \n",
       "\n",
       "[275 rows x 7 columns]"
      ]
     },
     "metadata": {},
     "output_type": "display_data"
    }
   ],
   "source": [
    "display(dfg.round(2))"
   ]
  },
  {
   "cell_type": "markdown",
   "id": "b044b49a",
   "metadata": {},
   "source": [
    "## Store the data"
   ]
  },
  {
   "cell_type": "code",
   "execution_count": 10,
   "id": "a4284d21",
   "metadata": {},
   "outputs": [
    {
     "name": "stdout",
     "output_type": "stream",
     "text": [
      "Save:\n",
      " D:\\gitProjects\\springboard_capstone_1\\Springboard_Capstone_01\\data\\interim\\offline_data_raw.csv\n"
     ]
    }
   ],
   "source": [
    "# Change direcotry to the 'data\\raw' folder\n",
    "save_dir = ROOT_DIR + '\\\\data\\\\interim\\\\'\n",
    "\n",
    "# Set a file name\n",
    "file_save = save_dir + 'offline_data_raw.csv'\n",
    "dfg.to_csv(file_save)\n",
    "\n",
    "print('Save:\\n', file_save)"
   ]
  },
  {
   "cell_type": "code",
   "execution_count": null,
   "id": "daa828e4",
   "metadata": {},
   "outputs": [],
   "source": []
  }
 ],
 "metadata": {
  "kernelspec": {
   "display_name": "Python 3 (ipykernel)",
   "language": "python",
   "name": "python3"
  },
  "language_info": {
   "codemirror_mode": {
    "name": "ipython",
    "version": 3
   },
   "file_extension": ".py",
   "mimetype": "text/x-python",
   "name": "python",
   "nbconvert_exporter": "python",
   "pygments_lexer": "ipython3",
   "version": "3.9.15"
  }
 },
 "nbformat": 4,
 "nbformat_minor": 5
}
