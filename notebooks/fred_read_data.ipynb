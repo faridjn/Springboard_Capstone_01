{
 "cells": [
  {
   "cell_type": "code",
   "execution_count": 1,
   "id": "41bf62e0",
   "metadata": {},
   "outputs": [],
   "source": [
    "#Import the relevant modules\n",
    "import os\n",
    "from dotenv import load_dotenv\n",
    "\n",
    "import requests\n",
    "import json\n",
    "\n",
    "import pandas as pd\n",
    "import numpy as np\n",
    "import datetime as dt\n",
    "import matplotlib.pyplot as plt"
   ]
  },
  {
   "cell_type": "code",
   "execution_count": 2,
   "id": "d17d480c",
   "metadata": {},
   "outputs": [
    {
     "name": "stdout",
     "output_type": "stream",
     "text": [
      "FRED_API_key:  bdfea3a930932e399e4fc9f6f29904e3\n"
     ]
    }
   ],
   "source": [
    "#Load secret API key from .env file\n",
    "load_dotenv()\n",
    "\n",
    "fred_api_key = os.getenv('fred_api_key')\n",
    "print('fred_api_key: ', fred_api_key)"
   ]
  },
  {
   "cell_type": "code",
   "execution_count": 3,
   "id": "f5eda413",
   "metadata": {},
   "outputs": [],
   "source": [
    "#Load the oil price time series from api.stlouisfed.org\n",
    "series_id = 'POILWTIUSDM'\n",
    "realtime_start = '2000-01-01'\n",
    "realtime_end = '2022-09-24'\n",
    "api_key = FRED_API_key\n",
    "\n",
    "'''\n",
    "## Data Sourcce ##\n",
    "International Monetary Fund, Global price of WTI Crude [POILWTIUSDM],\n",
    "retrieved from FRED, Federal Reserve Bank of St. Louis;\n",
    "https://fred.stlouisfed.org/series/POILWTIUSDM, September 26, 2022.\n",
    "'''\n",
    "\n",
    "resp = requests.get(\n",
    "    'https://api.stlouisfed.org/fred/series/observations?series_id='+\n",
    "    series_id +'&realtime_start=' +realtime_start+ '&realtime_end='+\n",
    "    realtime_end+'&api_key='+api_key+'&file_type=json')\n",
    "\n",
    "if resp.status_code != 200:\n",
    "    # This means something went wrong.\n",
    "    print(resp.status_code)"
   ]
  },
  {
   "cell_type": "code",
   "execution_count": 4,
   "id": "08468522",
   "metadata": {},
   "outputs": [],
   "source": [
    "#Load the request response as a JSON file: json_data\n",
    "json_data = resp.json()"
   ]
  },
  {
   "cell_type": "code",
   "execution_count": 5,
   "id": "14612b35",
   "metadata": {},
   "outputs": [
    {
     "name": "stdout",
     "output_type": "stream",
     "text": [
      "realtime_start 2010-01-01\n",
      "realtime_end 2022-09-24\n",
      "observation_start 1600-01-01\n",
      "observation_end 9999-12-31\n",
      "units lin\n",
      "output_type 1\n",
      "file_type json\n",
      "order_by observation_date\n",
      "sort_order asc\n",
      "count 1161\n",
      "offset 0\n",
      "limit 100000\n",
      "observations\n"
     ]
    }
   ],
   "source": [
    "#Explore the json_data keys and values\n",
    "for keys, values in json_data.items(): \n",
    "    #for \"observation\" key, don't print the value beacuse it is very long\n",
    "    if keys == 'observations':\n",
    "        print(keys)\n",
    "    else:\n",
    "        print(keys, values)"
   ]
  },
  {
   "cell_type": "code",
   "execution_count": 6,
   "id": "65fbca56",
   "metadata": {},
   "outputs": [
    {
     "name": "stdout",
     "output_type": "stream",
     "text": [
      "{'realtime_start': '2015-11-06', 'realtime_end': '2019-07-22', 'date': '1980-01-01', 'value': '37'}\n",
      "{'realtime_start': '2022-08-24', 'realtime_end': '2022-09-24', 'date': '2022-07-01', 'value': '103.734761904762'}\n"
     ]
    },
    {
     "data": {
      "text/plain": [
       "[None, None]"
      ]
     },
     "execution_count": 6,
     "metadata": {},
     "output_type": "execute_result"
    }
   ],
   "source": [
    "#print the first and last observation\n",
    "[print(json_data['observations'][i]) for i in [0,-1]]"
   ]
  },
  {
   "cell_type": "code",
   "execution_count": 7,
   "id": "46e086df",
   "metadata": {},
   "outputs": [
    {
     "name": "stdout",
     "output_type": "stream",
     "text": [
      "<class 'pandas.core.frame.DataFrame'>\n",
      "RangeIndex: 1161 entries, 0 to 1160\n",
      "Data columns (total 2 columns):\n",
      " #   Column  Non-Null Count  Dtype \n",
      "---  ------  --------------  ----- \n",
      " 0   date    1161 non-null   object\n",
      " 1   value   1161 non-null   object\n",
      "dtypes: object(2)\n",
      "memory usage: 18.3+ KB\n",
      "None\n"
     ]
    }
   ],
   "source": [
    "df = pd.DataFrame.from_dict(json_data['observations'])\n",
    "df = df.drop(columns = ['realtime_start','realtime_end'])\n",
    "print(df.info())"
   ]
  },
  {
   "cell_type": "code",
   "execution_count": 8,
   "id": "6746ab44",
   "metadata": {},
   "outputs": [],
   "source": [
    "df = df.loc[df['value'] != '.']"
   ]
  },
  {
   "cell_type": "code",
   "execution_count": 9,
   "id": "1a3d3ae6",
   "metadata": {},
   "outputs": [],
   "source": [
    "df = df.astype({\"date\": 'datetime64[ns]', \"value\": float})"
   ]
  },
  {
   "cell_type": "code",
   "execution_count": 10,
   "id": "2ea12c83",
   "metadata": {},
   "outputs": [],
   "source": [
    "df_2010 = df.loc[df['date'] >= realtime_start]"
   ]
  },
  {
   "cell_type": "code",
   "execution_count": 11,
   "id": "bbf69aa3",
   "metadata": {},
   "outputs": [
    {
     "name": "stdout",
     "output_type": "stream",
     "text": [
      "          date      value\n",
      "808 2010-01-01  78.337500\n",
      "809 2010-01-01  78.386190\n",
      "810 2010-01-01  78.300476\n",
      "811 2010-02-01  76.299000\n",
      "812 2010-02-01  76.074500\n",
      "           date       value\n",
      "1156 2022-03-01  109.852609\n",
      "1157 2022-04-01  102.781429\n",
      "1158 2022-05-01  110.650455\n",
      "1159 2022-06-01  115.649091\n",
      "1160 2022-07-01  103.734762\n"
     ]
    }
   ],
   "source": [
    "print(df_2010.head())\n",
    "print(df_2010.tail())"
   ]
  },
  {
   "cell_type": "code",
   "execution_count": 12,
   "id": "7a37741a",
   "metadata": {},
   "outputs": [
    {
     "name": "stdout",
     "output_type": "stream",
     "text": [
      "date     2020-04-01 00:00:00\n",
      "value              15.842273\n",
      "Name: 1114, dtype: object\n",
      "date     2022-06-01 00:00:00\n",
      "value             115.649091\n",
      "Name: 1159, dtype: object\n"
     ]
    }
   ],
   "source": [
    "print(df_2010.loc[df_2010.value.idxmin()])\n",
    "print(df_2010.loc[df_2010.value.idxmax()])"
   ]
  },
  {
   "cell_type": "code",
   "execution_count": 13,
   "id": "c7fa84d4",
   "metadata": {},
   "outputs": [
    {
     "data": {
      "image/png": "[encoded data removed]",
      "text/plain": [
       "<Figure size 640x480 with 1 Axes>"
      ]
     },
     "metadata": {},
     "output_type": "display_data"
    }
   ],
   "source": [
    "df_2010.plot(x = 'date', y = 'value')\n",
    "plt.title('Crude Oil WTI (USD/bbl)')\n",
    "plt.ylabel('USD')\n",
    "plt.show()"
   ]
  },
  {
   "cell_type": "code",
   "execution_count": 23,
   "id": "a2f0ef13",
   "metadata": {},
   "outputs": [],
   "source": [
    "ROOT_DIR = os.path.normpath(os.getcwd() + os.sep + os.pardir)"
   ]
  },
  {
   "cell_type": "code",
   "execution_count": 24,
   "id": "3dc94324",
   "metadata": {},
   "outputs": [],
   "source": [
    "data_dir = ROOT_DIR + '\\\\data\\\\interim\\\\'\n",
    "\n",
    "\n",
    "file_name = 'oil_price_2010_2022.csv'\n",
    "df_2010.to_csv(data_dir+file_name)"
   ]
  }
 ],
 "metadata": {
  "kernelspec": {
   "display_name": "Python 3 (ipykernel)",
   "language": "python",
   "name": "python3"
  },
  "language_info": {
   "codemirror_mode": {
    "name": "ipython",
    "version": 3
   },
   "file_extension": ".py",
   "mimetype": "text/x-python",
   "name": "python",
   "nbconvert_exporter": "python",
   "pygments_lexer": "ipython3",
   "version": "3.9.13"
  }
 },
 "nbformat": 4,
 "nbformat_minor": 5
}
